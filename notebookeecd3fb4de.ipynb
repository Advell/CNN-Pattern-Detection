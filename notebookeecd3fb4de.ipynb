{
 "cells": [
  {
   "cell_type": "markdown",
   "id": "8e18008b",
   "metadata": {
    "_cell_guid": "0e15e399-a7b3-4686-9a3d-5922d6749916",
    "_uuid": "ca6861e4-0e8f-4d3e-a670-d2f23a401320",
    "execution": {
     "iopub.execute_input": "2023-03-15T22:21:58.905271Z",
     "iopub.status.busy": "2023-03-15T22:21:58.904908Z",
     "iopub.status.idle": "2023-03-15T22:22:13.130331Z",
     "shell.execute_reply": "2023-03-15T22:22:13.129142Z",
     "shell.execute_reply.started": "2023-03-15T22:21:58.905240Z"
    },
    "jupyter": {
     "outputs_hidden": false
    },
    "papermill": {
     "duration": 0.009513,
     "end_time": "2023-03-19T14:28:59.907086",
     "exception": false,
     "start_time": "2023-03-19T14:28:59.897573",
     "status": "completed"
    },
    "tags": []
   },
   "source": [
    "# Load Data"
   ]
  },
  {
   "cell_type": "code",
   "execution_count": 1,
   "id": "5a791b34",
   "metadata": {
    "execution": {
     "iopub.execute_input": "2023-03-19T14:28:59.921639Z",
     "iopub.status.busy": "2023-03-19T14:28:59.920494Z",
     "iopub.status.idle": "2023-03-19T14:29:15.578231Z",
     "shell.execute_reply": "2023-03-19T14:29:15.577238Z"
    },
    "papermill": {
     "duration": 15.667539,
     "end_time": "2023-03-19T14:29:15.580740",
     "exception": false,
     "start_time": "2023-03-19T14:28:59.913201",
     "status": "completed"
    },
    "tags": []
   },
   "outputs": [],
   "source": [
    "import pandas as pd\n",
    "import numpy as np\n",
    "import json\n",
    "import matplotlib.pyplot as plt\n",
    "import seaborn as sns\n",
    "import cv2\n",
    "\n",
    "train_dir = '../input/herbarium-2022-fgvc9/train_images/'\n",
    "test_dir = '../input/herbarium-2022-fgvc9/test_images/'\n",
    "\n",
    "with open(\"../input/herbarium-2022-fgvc9/train_metadata.json\") as json_file:\n",
    "    train_meta = json.load(json_file)\n",
    "with open(\"../input/herbarium-2022-fgvc9/test_metadata.json\") as json_file:\n",
    "    test_meta = json.load(json_file)"
   ]
  },
  {
   "cell_type": "markdown",
   "id": "02de6033",
   "metadata": {
    "papermill": {
     "duration": 0.005914,
     "end_time": "2023-03-19T14:29:15.592880",
     "exception": false,
     "start_time": "2023-03-19T14:29:15.586966",
     "status": "completed"
    },
    "tags": []
   },
   "source": [
    "# JSON -> Dataframe"
   ]
  },
  {
   "cell_type": "code",
   "execution_count": 2,
   "id": "6ebe33db",
   "metadata": {
    "execution": {
     "iopub.execute_input": "2023-03-19T14:29:15.606458Z",
     "iopub.status.busy": "2023-03-19T14:29:15.606123Z",
     "iopub.status.idle": "2023-03-19T14:29:16.646829Z",
     "shell.execute_reply": "2023-03-19T14:29:16.645834Z"
    },
    "papermill": {
     "duration": 1.049924,
     "end_time": "2023-03-19T14:29:16.649000",
     "exception": false,
     "start_time": "2023-03-19T14:29:15.599076",
     "status": "completed"
    },
    "tags": []
   },
   "outputs": [
    {
     "data": {
      "text/html": [
       "<div>\n",
       "<style scoped>\n",
       "    .dataframe tbody tr th:only-of-type {\n",
       "        vertical-align: middle;\n",
       "    }\n",
       "\n",
       "    .dataframe tbody tr th {\n",
       "        vertical-align: top;\n",
       "    }\n",
       "\n",
       "    .dataframe thead th {\n",
       "        text-align: right;\n",
       "    }\n",
       "</style>\n",
       "<table border=\"1\" class=\"dataframe\">\n",
       "  <thead>\n",
       "    <tr style=\"text-align: right;\">\n",
       "      <th></th>\n",
       "      <th>image_id</th>\n",
       "      <th>image_dir</th>\n",
       "      <th>category</th>\n",
       "      <th>genus</th>\n",
       "    </tr>\n",
       "  </thead>\n",
       "  <tbody>\n",
       "    <tr>\n",
       "      <th>0</th>\n",
       "      <td>00000__001</td>\n",
       "      <td>../input/herbarium-2022-fgvc9/train_images/000...</td>\n",
       "      <td>0</td>\n",
       "      <td>1</td>\n",
       "    </tr>\n",
       "    <tr>\n",
       "      <th>1</th>\n",
       "      <td>00000__002</td>\n",
       "      <td>../input/herbarium-2022-fgvc9/train_images/000...</td>\n",
       "      <td>0</td>\n",
       "      <td>1</td>\n",
       "    </tr>\n",
       "    <tr>\n",
       "      <th>2</th>\n",
       "      <td>00000__003</td>\n",
       "      <td>../input/herbarium-2022-fgvc9/train_images/000...</td>\n",
       "      <td>0</td>\n",
       "      <td>1</td>\n",
       "    </tr>\n",
       "    <tr>\n",
       "      <th>3</th>\n",
       "      <td>00000__004</td>\n",
       "      <td>../input/herbarium-2022-fgvc9/train_images/000...</td>\n",
       "      <td>0</td>\n",
       "      <td>1</td>\n",
       "    </tr>\n",
       "    <tr>\n",
       "      <th>4</th>\n",
       "      <td>00000__005</td>\n",
       "      <td>../input/herbarium-2022-fgvc9/train_images/000...</td>\n",
       "      <td>0</td>\n",
       "      <td>1</td>\n",
       "    </tr>\n",
       "    <tr>\n",
       "      <th>...</th>\n",
       "      <td>...</td>\n",
       "      <td>...</td>\n",
       "      <td>...</td>\n",
       "      <td>...</td>\n",
       "    </tr>\n",
       "    <tr>\n",
       "      <th>839767</th>\n",
       "      <td>15504__032</td>\n",
       "      <td>../input/herbarium-2022-fgvc9/train_images/155...</td>\n",
       "      <td>15504</td>\n",
       "      <td>2584</td>\n",
       "    </tr>\n",
       "    <tr>\n",
       "      <th>839768</th>\n",
       "      <td>15504__033</td>\n",
       "      <td>../input/herbarium-2022-fgvc9/train_images/155...</td>\n",
       "      <td>15504</td>\n",
       "      <td>2584</td>\n",
       "    </tr>\n",
       "    <tr>\n",
       "      <th>839769</th>\n",
       "      <td>15504__035</td>\n",
       "      <td>../input/herbarium-2022-fgvc9/train_images/155...</td>\n",
       "      <td>15504</td>\n",
       "      <td>2584</td>\n",
       "    </tr>\n",
       "    <tr>\n",
       "      <th>839770</th>\n",
       "      <td>15504__036</td>\n",
       "      <td>../input/herbarium-2022-fgvc9/train_images/155...</td>\n",
       "      <td>15504</td>\n",
       "      <td>2584</td>\n",
       "    </tr>\n",
       "    <tr>\n",
       "      <th>839771</th>\n",
       "      <td>15504__037</td>\n",
       "      <td>../input/herbarium-2022-fgvc9/train_images/155...</td>\n",
       "      <td>15504</td>\n",
       "      <td>2584</td>\n",
       "    </tr>\n",
       "  </tbody>\n",
       "</table>\n",
       "<p>839772 rows × 4 columns</p>\n",
       "</div>"
      ],
      "text/plain": [
       "          image_id                                          image_dir  \\\n",
       "0       00000__001  ../input/herbarium-2022-fgvc9/train_images/000...   \n",
       "1       00000__002  ../input/herbarium-2022-fgvc9/train_images/000...   \n",
       "2       00000__003  ../input/herbarium-2022-fgvc9/train_images/000...   \n",
       "3       00000__004  ../input/herbarium-2022-fgvc9/train_images/000...   \n",
       "4       00000__005  ../input/herbarium-2022-fgvc9/train_images/000...   \n",
       "...            ...                                                ...   \n",
       "839767  15504__032  ../input/herbarium-2022-fgvc9/train_images/155...   \n",
       "839768  15504__033  ../input/herbarium-2022-fgvc9/train_images/155...   \n",
       "839769  15504__035  ../input/herbarium-2022-fgvc9/train_images/155...   \n",
       "839770  15504__036  ../input/herbarium-2022-fgvc9/train_images/155...   \n",
       "839771  15504__037  ../input/herbarium-2022-fgvc9/train_images/155...   \n",
       "\n",
       "        category  genus  \n",
       "0              0      1  \n",
       "1              0      1  \n",
       "2              0      1  \n",
       "3              0      1  \n",
       "4              0      1  \n",
       "...          ...    ...  \n",
       "839767     15504   2584  \n",
       "839768     15504   2584  \n",
       "839769     15504   2584  \n",
       "839770     15504   2584  \n",
       "839771     15504   2584  \n",
       "\n",
       "[839772 rows x 4 columns]"
      ]
     },
     "execution_count": 2,
     "metadata": {},
     "output_type": "execute_result"
    }
   ],
   "source": [
    "image_ids = [image[\"image_id\"] for image in train_meta[\"images\"]]\n",
    "image_dirs = [train_dir + image['file_name'] for image in train_meta[\"images\"]]\n",
    "category_ids = [annotation['category_id'] for annotation in train_meta['annotations']]\n",
    "genus_ids = [annotation['genus_id'] for annotation in train_meta['annotations']]\n",
    "\n",
    "test_ids = [image['image_id'] for image in test_meta]\n",
    "test_dirs = [test_dir + image['file_name'] for image in test_meta]\n",
    "\n",
    "#Create the initial training dataframe with the above defined columns\n",
    "train_df = pd.DataFrame({\n",
    "    \"image_id\" : image_ids,\n",
    "    \"image_dir\" : image_dirs,\n",
    "    \"category\" : category_ids,\n",
    "    \"genus\" : genus_ids})\n",
    "\n",
    "#Create a testing dataframe\n",
    "test_df = pd.DataFrame({\n",
    "    \"test_id\" : test_ids,\n",
    "    \"test_dir\" : test_dirs\n",
    "})\n",
    "\n",
    "train_df"
   ]
  },
  {
   "cell_type": "markdown",
   "id": "f41001fa",
   "metadata": {
    "papermill": {
     "duration": 0.00619,
     "end_time": "2023-03-19T14:29:16.661514",
     "exception": false,
     "start_time": "2023-03-19T14:29:16.655324",
     "status": "completed"
    },
    "tags": []
   },
   "source": [
    "# Mapping genus and family"
   ]
  },
  {
   "cell_type": "code",
   "execution_count": 3,
   "id": "f69f0cbb",
   "metadata": {
    "_cell_guid": "e50f78f2-95de-47f7-a054-84df03f95d16",
    "_uuid": "f3df79ec-dcce-4644-871c-83042ff211f2",
    "collapsed": false,
    "execution": {
     "iopub.execute_input": "2023-03-19T14:29:16.675291Z",
     "iopub.status.busy": "2023-03-19T14:29:16.674974Z",
     "iopub.status.idle": "2023-03-19T14:30:05.902767Z",
     "shell.execute_reply": "2023-03-19T14:30:05.901835Z"
    },
    "jupyter": {
     "outputs_hidden": false
    },
    "papermill": {
     "duration": 49.242271,
     "end_time": "2023-03-19T14:30:05.909896",
     "exception": false,
     "start_time": "2023-03-19T14:29:16.667625",
     "status": "completed"
    },
    "tags": []
   },
   "outputs": [
    {
     "data": {
      "text/html": [
       "<div>\n",
       "<style scoped>\n",
       "    .dataframe tbody tr th:only-of-type {\n",
       "        vertical-align: middle;\n",
       "    }\n",
       "\n",
       "    .dataframe tbody tr th {\n",
       "        vertical-align: top;\n",
       "    }\n",
       "\n",
       "    .dataframe thead th {\n",
       "        text-align: right;\n",
       "    }\n",
       "</style>\n",
       "<table border=\"1\" class=\"dataframe\">\n",
       "  <thead>\n",
       "    <tr style=\"text-align: right;\">\n",
       "      <th></th>\n",
       "      <th>image_id</th>\n",
       "      <th>image_dir</th>\n",
       "      <th>category</th>\n",
       "      <th>genus</th>\n",
       "      <th>family</th>\n",
       "    </tr>\n",
       "  </thead>\n",
       "  <tbody>\n",
       "    <tr>\n",
       "      <th>0</th>\n",
       "      <td>00000__001</td>\n",
       "      <td>../input/herbarium-2022-fgvc9/train_images/000...</td>\n",
       "      <td>0</td>\n",
       "      <td>Abies</td>\n",
       "      <td>Pinaceae</td>\n",
       "    </tr>\n",
       "    <tr>\n",
       "      <th>1</th>\n",
       "      <td>00000__002</td>\n",
       "      <td>../input/herbarium-2022-fgvc9/train_images/000...</td>\n",
       "      <td>0</td>\n",
       "      <td>Abies</td>\n",
       "      <td>Pinaceae</td>\n",
       "    </tr>\n",
       "    <tr>\n",
       "      <th>2</th>\n",
       "      <td>00000__003</td>\n",
       "      <td>../input/herbarium-2022-fgvc9/train_images/000...</td>\n",
       "      <td>0</td>\n",
       "      <td>Abies</td>\n",
       "      <td>Pinaceae</td>\n",
       "    </tr>\n",
       "    <tr>\n",
       "      <th>3</th>\n",
       "      <td>00000__004</td>\n",
       "      <td>../input/herbarium-2022-fgvc9/train_images/000...</td>\n",
       "      <td>0</td>\n",
       "      <td>Abies</td>\n",
       "      <td>Pinaceae</td>\n",
       "    </tr>\n",
       "    <tr>\n",
       "      <th>4</th>\n",
       "      <td>00000__005</td>\n",
       "      <td>../input/herbarium-2022-fgvc9/train_images/000...</td>\n",
       "      <td>0</td>\n",
       "      <td>Abies</td>\n",
       "      <td>Pinaceae</td>\n",
       "    </tr>\n",
       "    <tr>\n",
       "      <th>...</th>\n",
       "      <td>...</td>\n",
       "      <td>...</td>\n",
       "      <td>...</td>\n",
       "      <td>...</td>\n",
       "      <td>...</td>\n",
       "    </tr>\n",
       "    <tr>\n",
       "      <th>839767</th>\n",
       "      <td>15504__032</td>\n",
       "      <td>../input/herbarium-2022-fgvc9/train_images/155...</td>\n",
       "      <td>15504</td>\n",
       "      <td>Zygophyllum</td>\n",
       "      <td>Zygophyllaceae</td>\n",
       "    </tr>\n",
       "    <tr>\n",
       "      <th>839768</th>\n",
       "      <td>15504__033</td>\n",
       "      <td>../input/herbarium-2022-fgvc9/train_images/155...</td>\n",
       "      <td>15504</td>\n",
       "      <td>Zygophyllum</td>\n",
       "      <td>Zygophyllaceae</td>\n",
       "    </tr>\n",
       "    <tr>\n",
       "      <th>839769</th>\n",
       "      <td>15504__035</td>\n",
       "      <td>../input/herbarium-2022-fgvc9/train_images/155...</td>\n",
       "      <td>15504</td>\n",
       "      <td>Zygophyllum</td>\n",
       "      <td>Zygophyllaceae</td>\n",
       "    </tr>\n",
       "    <tr>\n",
       "      <th>839770</th>\n",
       "      <td>15504__036</td>\n",
       "      <td>../input/herbarium-2022-fgvc9/train_images/155...</td>\n",
       "      <td>15504</td>\n",
       "      <td>Zygophyllum</td>\n",
       "      <td>Zygophyllaceae</td>\n",
       "    </tr>\n",
       "    <tr>\n",
       "      <th>839771</th>\n",
       "      <td>15504__037</td>\n",
       "      <td>../input/herbarium-2022-fgvc9/train_images/155...</td>\n",
       "      <td>15504</td>\n",
       "      <td>Zygophyllum</td>\n",
       "      <td>Zygophyllaceae</td>\n",
       "    </tr>\n",
       "  </tbody>\n",
       "</table>\n",
       "<p>839772 rows × 5 columns</p>\n",
       "</div>"
      ],
      "text/plain": [
       "          image_id                                          image_dir  \\\n",
       "0       00000__001  ../input/herbarium-2022-fgvc9/train_images/000...   \n",
       "1       00000__002  ../input/herbarium-2022-fgvc9/train_images/000...   \n",
       "2       00000__003  ../input/herbarium-2022-fgvc9/train_images/000...   \n",
       "3       00000__004  ../input/herbarium-2022-fgvc9/train_images/000...   \n",
       "4       00000__005  ../input/herbarium-2022-fgvc9/train_images/000...   \n",
       "...            ...                                                ...   \n",
       "839767  15504__032  ../input/herbarium-2022-fgvc9/train_images/155...   \n",
       "839768  15504__033  ../input/herbarium-2022-fgvc9/train_images/155...   \n",
       "839769  15504__035  ../input/herbarium-2022-fgvc9/train_images/155...   \n",
       "839770  15504__036  ../input/herbarium-2022-fgvc9/train_images/155...   \n",
       "839771  15504__037  ../input/herbarium-2022-fgvc9/train_images/155...   \n",
       "\n",
       "        category        genus          family  \n",
       "0              0        Abies        Pinaceae  \n",
       "1              0        Abies        Pinaceae  \n",
       "2              0        Abies        Pinaceae  \n",
       "3              0        Abies        Pinaceae  \n",
       "4              0        Abies        Pinaceae  \n",
       "...          ...          ...             ...  \n",
       "839767     15504  Zygophyllum  Zygophyllaceae  \n",
       "839768     15504  Zygophyllum  Zygophyllaceae  \n",
       "839769     15504  Zygophyllum  Zygophyllaceae  \n",
       "839770     15504  Zygophyllum  Zygophyllaceae  \n",
       "839771     15504  Zygophyllum  Zygophyllaceae  \n",
       "\n",
       "[839772 rows x 5 columns]"
      ]
     },
     "execution_count": 3,
     "metadata": {},
     "output_type": "execute_result"
    }
   ],
   "source": [
    "#Add a genus column to the dataframe\n",
    "genus_map = {genus['genus_id'] : genus['genus'] for genus in train_meta['genera']}\n",
    "train_df['genus'] = train_df['genus'].map(genus_map)\n",
    "\n",
    "##Create a family column in the datagframe based on the genus names\n",
    "    # Step 1: Create dictionary of genus -> family mapping\n",
    "genus_family_map = {}\n",
    "for category in train_meta[\"categories\"]:\n",
    "    genus = category['genus']\n",
    "    family = category['family']\n",
    "    genus_family_map[genus] = family\n",
    "\n",
    "    # Step 2: Create new column with default value of None™\n",
    "train_df['family'] = None\n",
    "\n",
    "    # Step 3: Update values in new column based on genus -> family mapping\n",
    "for i, row in train_df.iterrows():\n",
    "    genus = row['genus']\n",
    "    if genus in genus_family_map:\n",
    "        family = genus_family_map[genus]\n",
    "        train_df.at[i, 'family'] = family\n",
    "\n",
    "train_df"
   ]
  },
  {
   "cell_type": "markdown",
   "id": "d000c668",
   "metadata": {
    "papermill": {
     "duration": 0.006099,
     "end_time": "2023-03-19T14:30:05.922305",
     "exception": false,
     "start_time": "2023-03-19T14:30:05.916206",
     "status": "completed"
    },
    "tags": []
   },
   "source": [
    "# Filtering to Poaceae"
   ]
  },
  {
   "cell_type": "code",
   "execution_count": 4,
   "id": "61fa2e24",
   "metadata": {
    "execution": {
     "iopub.execute_input": "2023-03-19T14:30:05.936467Z",
     "iopub.status.busy": "2023-03-19T14:30:05.935609Z",
     "iopub.status.idle": "2023-03-19T14:30:06.005420Z",
     "shell.execute_reply": "2023-03-19T14:30:06.004359Z"
    },
    "papermill": {
     "duration": 0.079562,
     "end_time": "2023-03-19T14:30:06.008066",
     "exception": false,
     "start_time": "2023-03-19T14:30:05.928504",
     "status": "completed"
    },
    "tags": []
   },
   "outputs": [
    {
     "data": {
      "text/html": [
       "<div>\n",
       "<style scoped>\n",
       "    .dataframe tbody tr th:only-of-type {\n",
       "        vertical-align: middle;\n",
       "    }\n",
       "\n",
       "    .dataframe tbody tr th {\n",
       "        vertical-align: top;\n",
       "    }\n",
       "\n",
       "    .dataframe thead th {\n",
       "        text-align: right;\n",
       "    }\n",
       "</style>\n",
       "<table border=\"1\" class=\"dataframe\">\n",
       "  <thead>\n",
       "    <tr style=\"text-align: right;\">\n",
       "      <th></th>\n",
       "      <th>image_id</th>\n",
       "      <th>image_dir</th>\n",
       "      <th>category</th>\n",
       "      <th>genus</th>\n",
       "      <th>family</th>\n",
       "    </tr>\n",
       "  </thead>\n",
       "  <tbody>\n",
       "    <tr>\n",
       "      <th>0</th>\n",
       "      <td>00333__001</td>\n",
       "      <td>../input/herbarium-2022-fgvc9/train_images/003...</td>\n",
       "      <td>333</td>\n",
       "      <td>Agrostis</td>\n",
       "      <td>Poaceae</td>\n",
       "    </tr>\n",
       "    <tr>\n",
       "      <th>1</th>\n",
       "      <td>00333__002</td>\n",
       "      <td>../input/herbarium-2022-fgvc9/train_images/003...</td>\n",
       "      <td>333</td>\n",
       "      <td>Agrostis</td>\n",
       "      <td>Poaceae</td>\n",
       "    </tr>\n",
       "    <tr>\n",
       "      <th>2</th>\n",
       "      <td>00333__003</td>\n",
       "      <td>../input/herbarium-2022-fgvc9/train_images/003...</td>\n",
       "      <td>333</td>\n",
       "      <td>Agrostis</td>\n",
       "      <td>Poaceae</td>\n",
       "    </tr>\n",
       "    <tr>\n",
       "      <th>3</th>\n",
       "      <td>00333__004</td>\n",
       "      <td>../input/herbarium-2022-fgvc9/train_images/003...</td>\n",
       "      <td>333</td>\n",
       "      <td>Agrostis</td>\n",
       "      <td>Poaceae</td>\n",
       "    </tr>\n",
       "    <tr>\n",
       "      <th>4</th>\n",
       "      <td>00333__005</td>\n",
       "      <td>../input/herbarium-2022-fgvc9/train_images/003...</td>\n",
       "      <td>333</td>\n",
       "      <td>Agrostis</td>\n",
       "      <td>Poaceae</td>\n",
       "    </tr>\n",
       "    <tr>\n",
       "      <th>...</th>\n",
       "      <td>...</td>\n",
       "      <td>...</td>\n",
       "      <td>...</td>\n",
       "      <td>...</td>\n",
       "      <td>...</td>\n",
       "    </tr>\n",
       "    <tr>\n",
       "      <th>53542</th>\n",
       "      <td>15501__101</td>\n",
       "      <td>../input/herbarium-2022-fgvc9/train_images/155...</td>\n",
       "      <td>15501</td>\n",
       "      <td>Zuloagaea</td>\n",
       "      <td>Poaceae</td>\n",
       "    </tr>\n",
       "    <tr>\n",
       "      <th>53543</th>\n",
       "      <td>15501__103</td>\n",
       "      <td>../input/herbarium-2022-fgvc9/train_images/155...</td>\n",
       "      <td>15501</td>\n",
       "      <td>Zuloagaea</td>\n",
       "      <td>Poaceae</td>\n",
       "    </tr>\n",
       "    <tr>\n",
       "      <th>53544</th>\n",
       "      <td>15501__105</td>\n",
       "      <td>../input/herbarium-2022-fgvc9/train_images/155...</td>\n",
       "      <td>15501</td>\n",
       "      <td>Zuloagaea</td>\n",
       "      <td>Poaceae</td>\n",
       "    </tr>\n",
       "    <tr>\n",
       "      <th>53545</th>\n",
       "      <td>15501__106</td>\n",
       "      <td>../input/herbarium-2022-fgvc9/train_images/155...</td>\n",
       "      <td>15501</td>\n",
       "      <td>Zuloagaea</td>\n",
       "      <td>Poaceae</td>\n",
       "    </tr>\n",
       "    <tr>\n",
       "      <th>53546</th>\n",
       "      <td>15501__107</td>\n",
       "      <td>../input/herbarium-2022-fgvc9/train_images/155...</td>\n",
       "      <td>15501</td>\n",
       "      <td>Zuloagaea</td>\n",
       "      <td>Poaceae</td>\n",
       "    </tr>\n",
       "  </tbody>\n",
       "</table>\n",
       "<p>53547 rows × 5 columns</p>\n",
       "</div>"
      ],
      "text/plain": [
       "         image_id                                          image_dir  \\\n",
       "0      00333__001  ../input/herbarium-2022-fgvc9/train_images/003...   \n",
       "1      00333__002  ../input/herbarium-2022-fgvc9/train_images/003...   \n",
       "2      00333__003  ../input/herbarium-2022-fgvc9/train_images/003...   \n",
       "3      00333__004  ../input/herbarium-2022-fgvc9/train_images/003...   \n",
       "4      00333__005  ../input/herbarium-2022-fgvc9/train_images/003...   \n",
       "...           ...                                                ...   \n",
       "53542  15501__101  ../input/herbarium-2022-fgvc9/train_images/155...   \n",
       "53543  15501__103  ../input/herbarium-2022-fgvc9/train_images/155...   \n",
       "53544  15501__105  ../input/herbarium-2022-fgvc9/train_images/155...   \n",
       "53545  15501__106  ../input/herbarium-2022-fgvc9/train_images/155...   \n",
       "53546  15501__107  ../input/herbarium-2022-fgvc9/train_images/155...   \n",
       "\n",
       "       category      genus   family  \n",
       "0           333   Agrostis  Poaceae  \n",
       "1           333   Agrostis  Poaceae  \n",
       "2           333   Agrostis  Poaceae  \n",
       "3           333   Agrostis  Poaceae  \n",
       "4           333   Agrostis  Poaceae  \n",
       "...         ...        ...      ...  \n",
       "53542     15501  Zuloagaea  Poaceae  \n",
       "53543     15501  Zuloagaea  Poaceae  \n",
       "53544     15501  Zuloagaea  Poaceae  \n",
       "53545     15501  Zuloagaea  Poaceae  \n",
       "53546     15501  Zuloagaea  Poaceae  \n",
       "\n",
       "[53547 rows x 5 columns]"
      ]
     },
     "execution_count": 4,
     "metadata": {},
     "output_type": "execute_result"
    }
   ],
   "source": [
    "#Filter only the images of plants that are in the Poaceae family\n",
    "train_df = train_df.loc[train_df['family'] == 'Poaceae']\n",
    "#Reset index\n",
    "train_df = train_df.reset_index(drop=True)\n",
    "train_df"
   ]
  },
  {
   "cell_type": "markdown",
   "id": "1c0210df",
   "metadata": {
    "papermill": {
     "duration": 0.006311,
     "end_time": "2023-03-19T14:30:06.021066",
     "exception": false,
     "start_time": "2023-03-19T14:30:06.014755",
     "status": "completed"
    },
    "tags": []
   },
   "source": [
    "# Adding species column"
   ]
  },
  {
   "cell_type": "code",
   "execution_count": 5,
   "id": "dcb07b44",
   "metadata": {
    "_cell_guid": "989f3b10-1540-4184-9035-9f1f27b094a0",
    "_uuid": "5a7f2cb1-59e0-4b29-94c8-c073b88a9b35",
    "execution": {
     "iopub.execute_input": "2023-03-19T14:30:06.035429Z",
     "iopub.status.busy": "2023-03-19T14:30:06.035109Z",
     "iopub.status.idle": "2023-03-19T14:30:06.041219Z",
     "shell.execute_reply": "2023-03-19T14:30:06.040313Z"
    },
    "jupyter": {
     "source_hidden": true
    },
    "papermill": {
     "duration": 0.015622,
     "end_time": "2023-03-19T14:30:06.043152",
     "exception": false,
     "start_time": "2023-03-19T14:30:06.027530",
     "status": "completed"
    },
    "tags": []
   },
   "outputs": [
    {
     "data": {
      "text/plain": [
       "'#Add category_id and species column\\ntrain_df[\"species\"] = None\\n\\n# Extract category_id and species values from categories where the family is Poaceae\\nspecies_list = []\\nfor category in train_meta[\"categories\"]:\\n    if category[\"family\"] == \"Poaceae\":\\n        species_list.append({\\n            \"category\": category[\"category_id\"],\\n            \"species\": category[\"species\"]\\n        })\\n\\n# loop through data frame and species list to update species column\\nfor i, row in train_df.iterrows():\\n    for species in species_list:\\n        if row[\\'category\\'] == species[\\'category\\']:\\n            train_df.at[i, \\'species\\'] = species[\\'species\\']'"
      ]
     },
     "execution_count": 5,
     "metadata": {},
     "output_type": "execute_result"
    }
   ],
   "source": [
    "\"\"\"#Add category_id and species column\n",
    "train_df[\"species\"] = None\n",
    "\n",
    "# Extract category_id and species values from categories where the family is Poaceae\n",
    "species_list = []\n",
    "for category in train_meta[\"categories\"]:\n",
    "    if category[\"family\"] == \"Poaceae\":\n",
    "        species_list.append({\n",
    "            \"category\": category[\"category_id\"],\n",
    "            \"species\": category[\"species\"]\n",
    "        })\n",
    "\n",
    "# loop through data frame and species list to update species column\n",
    "for i, row in train_df.iterrows():\n",
    "    for species in species_list:\n",
    "        if row['category'] == species['category']:\n",
    "            train_df.at[i, 'species'] = species['species']\"\"\""
   ]
  },
  {
   "cell_type": "markdown",
   "id": "0e09f57d",
   "metadata": {
    "papermill": {
     "duration": 0.006418,
     "end_time": "2023-03-19T14:30:06.056016",
     "exception": false,
     "start_time": "2023-03-19T14:30:06.049598",
     "status": "completed"
    },
    "tags": []
   },
   "source": [
    "# Data visualization"
   ]
  },
  {
   "cell_type": "code",
   "execution_count": 6,
   "id": "7d0f4011",
   "metadata": {
    "execution": {
     "iopub.execute_input": "2023-03-19T14:30:06.070716Z",
     "iopub.status.busy": "2023-03-19T14:30:06.070062Z",
     "iopub.status.idle": "2023-03-19T14:30:06.076513Z",
     "shell.execute_reply": "2023-03-19T14:30:06.075551Z"
    },
    "jupyter": {
     "source_hidden": true
    },
    "papermill": {
     "duration": 0.01607,
     "end_time": "2023-03-19T14:30:06.078526",
     "exception": false,
     "start_time": "2023-03-19T14:30:06.062456",
     "status": "completed"
    },
    "tags": []
   },
   "outputs": [
    {
     "data": {
      "text/plain": [
       "\"\\ngenus_data = train_df['genus'].value_counts().head(15)\\ngenus_data = pd.DataFrame({'Genus' : genus_data.index,\\n                     'values' : genus_data.values})\\n                     \\nplt.figure(figsize = (20, 10))\\nsns.barplot(x='values', y = 'Genus', data = genus_data , palette='summer_r')\\nplt.show()\\n\\nFrom most to least: Muhlenbergia, Paspalum, Poa, Dichanthelium, Sporobolus, Eragrostis etc.\\n\""
      ]
     },
     "execution_count": 6,
     "metadata": {},
     "output_type": "execute_result"
    }
   ],
   "source": [
    "\"\"\"\n",
    "genus_data = train_df['genus'].value_counts().head(15)\n",
    "genus_data = pd.DataFrame({'Genus' : genus_data.index,\n",
    "                     'values' : genus_data.values})\n",
    "                     \n",
    "plt.figure(figsize = (20, 10))\n",
    "sns.barplot(x='values', y = 'Genus', data = genus_data , palette='summer_r')\n",
    "plt.show()\n",
    "\n",
    "From most to least: Muhlenbergia, Paspalum, Poa, Dichanthelium, Sporobolus, Eragrostis etc.\n",
    "\"\"\""
   ]
  },
  {
   "cell_type": "markdown",
   "id": "7f9d2d47",
   "metadata": {
    "papermill": {
     "duration": 0.00651,
     "end_time": "2023-03-19T14:30:06.091857",
     "exception": false,
     "start_time": "2023-03-19T14:30:06.085347",
     "status": "completed"
    },
    "tags": []
   },
   "source": [
    "# Filter to two genus"
   ]
  },
  {
   "cell_type": "code",
   "execution_count": 7,
   "id": "5b0e6ad1",
   "metadata": {
    "execution": {
     "iopub.execute_input": "2023-03-19T14:30:06.107208Z",
     "iopub.status.busy": "2023-03-19T14:30:06.106246Z",
     "iopub.status.idle": "2023-03-19T14:30:06.128403Z",
     "shell.execute_reply": "2023-03-19T14:30:06.127487Z"
    },
    "papermill": {
     "duration": 0.031898,
     "end_time": "2023-03-19T14:30:06.130381",
     "exception": false,
     "start_time": "2023-03-19T14:30:06.098483",
     "status": "completed"
    },
    "tags": []
   },
   "outputs": [
    {
     "data": {
      "text/html": [
       "<div>\n",
       "<style scoped>\n",
       "    .dataframe tbody tr th:only-of-type {\n",
       "        vertical-align: middle;\n",
       "    }\n",
       "\n",
       "    .dataframe tbody tr th {\n",
       "        vertical-align: top;\n",
       "    }\n",
       "\n",
       "    .dataframe thead th {\n",
       "        text-align: right;\n",
       "    }\n",
       "</style>\n",
       "<table border=\"1\" class=\"dataframe\">\n",
       "  <thead>\n",
       "    <tr style=\"text-align: right;\">\n",
       "      <th></th>\n",
       "      <th>image_id</th>\n",
       "      <th>image_dir</th>\n",
       "      <th>category</th>\n",
       "      <th>genus</th>\n",
       "      <th>family</th>\n",
       "    </tr>\n",
       "  </thead>\n",
       "  <tbody>\n",
       "    <tr>\n",
       "      <th>0</th>\n",
       "      <td>09492__001</td>\n",
       "      <td>../input/herbarium-2022-fgvc9/train_images/094...</td>\n",
       "      <td>9492</td>\n",
       "      <td>Muhlenbergia</td>\n",
       "      <td>Poaceae</td>\n",
       "    </tr>\n",
       "    <tr>\n",
       "      <th>1</th>\n",
       "      <td>09492__003</td>\n",
       "      <td>../input/herbarium-2022-fgvc9/train_images/094...</td>\n",
       "      <td>9492</td>\n",
       "      <td>Muhlenbergia</td>\n",
       "      <td>Poaceae</td>\n",
       "    </tr>\n",
       "    <tr>\n",
       "      <th>2</th>\n",
       "      <td>09492__004</td>\n",
       "      <td>../input/herbarium-2022-fgvc9/train_images/094...</td>\n",
       "      <td>9492</td>\n",
       "      <td>Muhlenbergia</td>\n",
       "      <td>Poaceae</td>\n",
       "    </tr>\n",
       "    <tr>\n",
       "      <th>3</th>\n",
       "      <td>09492__005</td>\n",
       "      <td>../input/herbarium-2022-fgvc9/train_images/094...</td>\n",
       "      <td>9492</td>\n",
       "      <td>Muhlenbergia</td>\n",
       "      <td>Poaceae</td>\n",
       "    </tr>\n",
       "    <tr>\n",
       "      <th>4</th>\n",
       "      <td>09492__006</td>\n",
       "      <td>../input/herbarium-2022-fgvc9/train_images/094...</td>\n",
       "      <td>9492</td>\n",
       "      <td>Muhlenbergia</td>\n",
       "      <td>Poaceae</td>\n",
       "    </tr>\n",
       "    <tr>\n",
       "      <th>...</th>\n",
       "      <td>...</td>\n",
       "      <td>...</td>\n",
       "      <td>...</td>\n",
       "      <td>...</td>\n",
       "      <td>...</td>\n",
       "    </tr>\n",
       "    <tr>\n",
       "      <th>7347</th>\n",
       "      <td>10398__026</td>\n",
       "      <td>../input/herbarium-2022-fgvc9/train_images/103...</td>\n",
       "      <td>10398</td>\n",
       "      <td>Paspalum</td>\n",
       "      <td>Poaceae</td>\n",
       "    </tr>\n",
       "    <tr>\n",
       "      <th>7348</th>\n",
       "      <td>10398__029</td>\n",
       "      <td>../input/herbarium-2022-fgvc9/train_images/103...</td>\n",
       "      <td>10398</td>\n",
       "      <td>Paspalum</td>\n",
       "      <td>Poaceae</td>\n",
       "    </tr>\n",
       "    <tr>\n",
       "      <th>7349</th>\n",
       "      <td>10398__030</td>\n",
       "      <td>../input/herbarium-2022-fgvc9/train_images/103...</td>\n",
       "      <td>10398</td>\n",
       "      <td>Paspalum</td>\n",
       "      <td>Poaceae</td>\n",
       "    </tr>\n",
       "    <tr>\n",
       "      <th>7350</th>\n",
       "      <td>10398__031</td>\n",
       "      <td>../input/herbarium-2022-fgvc9/train_images/103...</td>\n",
       "      <td>10398</td>\n",
       "      <td>Paspalum</td>\n",
       "      <td>Poaceae</td>\n",
       "    </tr>\n",
       "    <tr>\n",
       "      <th>7351</th>\n",
       "      <td>10398__033</td>\n",
       "      <td>../input/herbarium-2022-fgvc9/train_images/103...</td>\n",
       "      <td>10398</td>\n",
       "      <td>Paspalum</td>\n",
       "      <td>Poaceae</td>\n",
       "    </tr>\n",
       "  </tbody>\n",
       "</table>\n",
       "<p>7352 rows × 5 columns</p>\n",
       "</div>"
      ],
      "text/plain": [
       "        image_id                                          image_dir  category  \\\n",
       "0     09492__001  ../input/herbarium-2022-fgvc9/train_images/094...      9492   \n",
       "1     09492__003  ../input/herbarium-2022-fgvc9/train_images/094...      9492   \n",
       "2     09492__004  ../input/herbarium-2022-fgvc9/train_images/094...      9492   \n",
       "3     09492__005  ../input/herbarium-2022-fgvc9/train_images/094...      9492   \n",
       "4     09492__006  ../input/herbarium-2022-fgvc9/train_images/094...      9492   \n",
       "...          ...                                                ...       ...   \n",
       "7347  10398__026  ../input/herbarium-2022-fgvc9/train_images/103...     10398   \n",
       "7348  10398__029  ../input/herbarium-2022-fgvc9/train_images/103...     10398   \n",
       "7349  10398__030  ../input/herbarium-2022-fgvc9/train_images/103...     10398   \n",
       "7350  10398__031  ../input/herbarium-2022-fgvc9/train_images/103...     10398   \n",
       "7351  10398__033  ../input/herbarium-2022-fgvc9/train_images/103...     10398   \n",
       "\n",
       "             genus   family  \n",
       "0     Muhlenbergia  Poaceae  \n",
       "1     Muhlenbergia  Poaceae  \n",
       "2     Muhlenbergia  Poaceae  \n",
       "3     Muhlenbergia  Poaceae  \n",
       "4     Muhlenbergia  Poaceae  \n",
       "...            ...      ...  \n",
       "7347      Paspalum  Poaceae  \n",
       "7348      Paspalum  Poaceae  \n",
       "7349      Paspalum  Poaceae  \n",
       "7350      Paspalum  Poaceae  \n",
       "7351      Paspalum  Poaceae  \n",
       "\n",
       "[7352 rows x 5 columns]"
      ]
     },
     "execution_count": 7,
     "metadata": {},
     "output_type": "execute_result"
    }
   ],
   "source": [
    "#Muhlenbergia data\n",
    "muh_pas_df = train_df[(train_df['genus'] == 'Paspalum') | (train_df['genus'] == 'Muhlenbergia')]\n",
    "muh_pas_df = muh_pas_df.reset_index(drop=True)\n",
    "muh_pas_df"
   ]
  },
  {
   "cell_type": "markdown",
   "id": "7a510ac9",
   "metadata": {
    "papermill": {
     "duration": 0.006701,
     "end_time": "2023-03-19T14:30:06.144186",
     "exception": false,
     "start_time": "2023-03-19T14:30:06.137485",
     "status": "completed"
    },
    "tags": []
   },
   "source": [
    "# Image displaying"
   ]
  },
  {
   "cell_type": "code",
   "execution_count": 8,
   "id": "219e85be",
   "metadata": {
    "execution": {
     "iopub.execute_input": "2023-03-19T14:30:06.159693Z",
     "iopub.status.busy": "2023-03-19T14:30:06.158853Z",
     "iopub.status.idle": "2023-03-19T14:30:06.165510Z",
     "shell.execute_reply": "2023-03-19T14:30:06.164680Z"
    },
    "papermill": {
     "duration": 0.016429,
     "end_time": "2023-03-19T14:30:06.167476",
     "exception": false,
     "start_time": "2023-03-19T14:30:06.151047",
     "status": "completed"
    },
    "tags": []
   },
   "outputs": [],
   "source": [
    "def show_images(genus):\n",
    "    images = train_df.loc[train_df['genus'] == genus]['image_dir'][:9]\n",
    "    i = 1\n",
    "    fig = plt.figure(figsize = (18, 18))\n",
    "    plt.suptitle(genus, fontsize = '30')\n",
    "    for image in images:\n",
    "        img = cv2.imread(image)\n",
    "        ax = fig.add_subplot(3, 3, i)\n",
    "        ax.imshow(cv2.cvtColor(img, cv2.COLOR_BGR2RGB))\n",
    "        ax.set_axis_off()\n",
    "        i += 1\n",
    "    plt.show()"
   ]
  },
  {
   "cell_type": "code",
   "execution_count": 9,
   "id": "4205ec1a",
   "metadata": {
    "execution": {
     "iopub.execute_input": "2023-03-19T14:30:06.183002Z",
     "iopub.status.busy": "2023-03-19T14:30:06.182264Z",
     "iopub.status.idle": "2023-03-19T14:30:06.186354Z",
     "shell.execute_reply": "2023-03-19T14:30:06.185450Z"
    },
    "papermill": {
     "duration": 0.013825,
     "end_time": "2023-03-19T14:30:06.188308",
     "exception": false,
     "start_time": "2023-03-19T14:30:06.174483",
     "status": "completed"
    },
    "tags": []
   },
   "outputs": [],
   "source": [
    "#show_images(\"Muhlenbergia\")"
   ]
  },
  {
   "cell_type": "markdown",
   "id": "4e8bda1b",
   "metadata": {
    "papermill": {
     "duration": 0.006676,
     "end_time": "2023-03-19T14:30:06.201795",
     "exception": false,
     "start_time": "2023-03-19T14:30:06.195119",
     "status": "completed"
    },
    "tags": []
   },
   "source": [
    "# Splitting the dataset into training and validation"
   ]
  },
  {
   "cell_type": "markdown",
   "id": "30146bca",
   "metadata": {
    "papermill": {
     "duration": 0.006644,
     "end_time": "2023-03-19T14:30:06.215389",
     "exception": false,
     "start_time": "2023-03-19T14:30:06.208745",
     "status": "completed"
    },
    "tags": []
   },
   "source": [
    "**2 Genuses**"
   ]
  },
  {
   "cell_type": "code",
   "execution_count": 10,
   "id": "21b91974",
   "metadata": {
    "execution": {
     "iopub.execute_input": "2023-03-19T14:30:06.231116Z",
     "iopub.status.busy": "2023-03-19T14:30:06.230261Z",
     "iopub.status.idle": "2023-03-19T14:30:06.252046Z",
     "shell.execute_reply": "2023-03-19T14:30:06.251025Z"
    },
    "jupyter": {
     "source_hidden": true
    },
    "papermill": {
     "duration": 0.031787,
     "end_time": "2023-03-19T14:30:06.254026",
     "exception": false,
     "start_time": "2023-03-19T14:30:06.222239",
     "status": "completed"
    },
    "tags": []
   },
   "outputs": [
    {
     "data": {
      "text/plain": [
       "2"
      ]
     },
     "execution_count": 10,
     "metadata": {},
     "output_type": "execute_result"
    }
   ],
   "source": [
    "muh_df = muh_pas_df[muh_pas_df[\"genus\"] == \"Muhlenbergia\"] \n",
    "pas_df = muh_pas_df[muh_pas_df[\"genus\"] == \"Paspalum\"]\n",
    "\n",
    "#15 percent of images will be used for validation\n",
    "# Muh total: 4228 --> 15% = 634\n",
    "# Pas total: 3124 --> 15% = 467\n",
    "muh_valid = muh_df.sample(n=634, random_state=42)\n",
    "muh_train = muh_df.drop(muh_valid.index)\n",
    "muh_valid = muh_valid.reset_index(drop=True)\n",
    "muh_train = muh_train.reset_index(drop=True)\n",
    "\n",
    "pas_valid = pas_df.sample(n=467, random_state=42)\n",
    "pas_train = pas_df.drop(pas_valid.index)\n",
    "pas_valid = pas_valid.reset_index(drop=True)\n",
    "pas_train = pas_train.reset_index(drop=True)\n",
    "\n",
    "# Merging the Muhlanbergia and Paspalum databases\n",
    "muh_pas_train = pd.concat([muh_train, pas_train])\n",
    "muh_pas_train = muh_pas_train.reset_index(drop=True)\n",
    "\n",
    "muh_pas_valid = pd.concat([muh_valid, pas_valid])\n",
    "muh_pas_valid = muh_pas_valid.reset_index(drop=True)\n",
    "\n",
    "muh_pas_train[\"genus\"].nunique()"
   ]
  },
  {
   "cell_type": "code",
   "execution_count": 11,
   "id": "591800e2",
   "metadata": {
    "execution": {
     "iopub.execute_input": "2023-03-19T14:30:06.270180Z",
     "iopub.status.busy": "2023-03-19T14:30:06.269353Z",
     "iopub.status.idle": "2023-03-19T14:30:06.280400Z",
     "shell.execute_reply": "2023-03-19T14:30:06.279390Z"
    },
    "papermill": {
     "duration": 0.021119,
     "end_time": "2023-03-19T14:30:06.282345",
     "exception": false,
     "start_time": "2023-03-19T14:30:06.261226",
     "status": "completed"
    },
    "tags": []
   },
   "outputs": [
    {
     "data": {
      "text/plain": [
       "Otatea             33\n",
       "Chaetium           30\n",
       "Trichoneura        30\n",
       "Coleanthus         28\n",
       "Tetrapogon         27\n",
       "Arctopoa           21\n",
       "Willkommia         20\n",
       "Setariopsis        20\n",
       "Tuctoria           19\n",
       "Neostapfia         18\n",
       "Chusquea           18\n",
       "Amelichloa         16\n",
       "Allolepis          14\n",
       "Ptilagrostis       14\n",
       "Swallenia          14\n",
       "Ptilagrostiella    14\n",
       "Rhipidocladum      11\n",
       "Dupontia           10\n",
       "Kalinia            10\n",
       "Barkworthia         8\n",
       "Name: genus, dtype: int64"
      ]
     },
     "execution_count": 11,
     "metadata": {},
     "output_type": "execute_result"
    }
   ],
   "source": [
    "train_df[\"genus\"].value_counts().tail(20)"
   ]
  },
  {
   "cell_type": "markdown",
   "id": "1ca3ea5c",
   "metadata": {
    "papermill": {
     "duration": 0.006914,
     "end_time": "2023-03-19T14:30:06.296587",
     "exception": false,
     "start_time": "2023-03-19T14:30:06.289673",
     "status": "completed"
    },
    "tags": []
   },
   "source": [
    "# Creating the model"
   ]
  },
  {
   "cell_type": "code",
   "execution_count": 12,
   "id": "06a5fa9d",
   "metadata": {
    "execution": {
     "iopub.execute_input": "2023-03-19T14:30:06.312995Z",
     "iopub.status.busy": "2023-03-19T14:30:06.312028Z",
     "iopub.status.idle": "2023-03-19T14:30:08.899440Z",
     "shell.execute_reply": "2023-03-19T14:30:08.898417Z"
    },
    "papermill": {
     "duration": 2.597917,
     "end_time": "2023-03-19T14:30:08.901803",
     "exception": false,
     "start_time": "2023-03-19T14:30:06.303886",
     "status": "completed"
    },
    "tags": []
   },
   "outputs": [],
   "source": [
    "import os\n",
    "import torch\n",
    "import torchvision\n",
    "import numpy as np\n",
    "from PIL import Image\n",
    "import torch.nn as nn\n",
    "import torch.optim as optim\n",
    "from sklearn import preprocessing\n",
    "import torchvision.models as models\n",
    "import torchvision.transforms as transforms\n",
    "from torch.utils.data import Dataset, DataLoader\n",
    "from sklearn.model_selection import train_test_split\n",
    "from torchvision.models import resnet50, ResNet50_Weights\n",
    "\n",
    "df = train_df"
   ]
  },
  {
   "cell_type": "code",
   "execution_count": 13,
   "id": "03174479",
   "metadata": {
    "execution": {
     "iopub.execute_input": "2023-03-19T14:30:08.917816Z",
     "iopub.status.busy": "2023-03-19T14:30:08.917366Z",
     "iopub.status.idle": "2023-03-19T14:30:09.637290Z",
     "shell.execute_reply": "2023-03-19T14:30:09.636270Z"
    },
    "papermill": {
     "duration": 0.730465,
     "end_time": "2023-03-19T14:30:09.639752",
     "exception": false,
     "start_time": "2023-03-19T14:30:08.909287",
     "status": "completed"
    },
    "tags": []
   },
   "outputs": [],
   "source": [
    "# Split the dataset for each class separately\n",
    "train_dfs = []\n",
    "val_dfs = []\n",
    "for label in df['genus'].unique():\n",
    "    # Filter the dataset to only include images with the current label\n",
    "    label_df = df[df['genus'] == label]\n",
    "    \n",
    "    # Split the dataset into training and evaluation sets\n",
    "    train_df, val_df = train_test_split(label_df, test_size=0.2)\n",
    "    \n",
    "    # Append the training and evaluation sets to their respective lists\n",
    "    train_dfs.append(train_df)\n",
    "    val_dfs.append(val_df)\n",
    "\n",
    "# Concatenate the training and evaluation sets for all classes into single DataFrames\n",
    "train_df = pd.concat(train_dfs)\n",
    "val_df = pd.concat(val_dfs)\n",
    "\n",
    "train_df['genus'] = pd.factorize(train_df['genus'])[0]\n",
    "val_df['genus'] = pd.factorize(val_df['genus'])[0]"
   ]
  },
  {
   "cell_type": "code",
   "execution_count": 14,
   "id": "192105f7",
   "metadata": {
    "execution": {
     "iopub.execute_input": "2023-03-19T14:30:09.657289Z",
     "iopub.status.busy": "2023-03-19T14:30:09.656386Z",
     "iopub.status.idle": "2023-03-19T14:30:09.663208Z",
     "shell.execute_reply": "2023-03-19T14:30:09.662254Z"
    },
    "papermill": {
     "duration": 0.017278,
     "end_time": "2023-03-19T14:30:09.665364",
     "exception": false,
     "start_time": "2023-03-19T14:30:09.648086",
     "status": "completed"
    },
    "tags": []
   },
   "outputs": [],
   "source": [
    "batch_size = 128\n",
    "epochs = 10\n",
    "IM_SIZE = 224\n",
    "\n",
    "X_train, Y_train = train_df[\"image_dir\"].values, train_df[\"genus\"].values\n",
    "\n",
    "X_val, Y_val = val_df[\"image_dir\"].values, val_df[\"genus\"].values\n",
    "\n",
    "Transform = transforms.Compose(\n",
    "    [transforms.ToTensor(),\n",
    "    transforms.Resize((IM_SIZE, IM_SIZE)),\n",
    "    transforms.Normalize((0.485, 0.456, 0.406), (0.229, 0.224, 0.225))])"
   ]
  },
  {
   "cell_type": "code",
   "execution_count": 15,
   "id": "7ab830bc",
   "metadata": {
    "execution": {
     "iopub.execute_input": "2023-03-19T14:30:09.680834Z",
     "iopub.status.busy": "2023-03-19T14:30:09.680561Z",
     "iopub.status.idle": "2023-03-19T14:30:13.964345Z",
     "shell.execute_reply": "2023-03-19T14:30:13.963355Z"
    },
    "papermill": {
     "duration": 4.294254,
     "end_time": "2023-03-19T14:30:13.966793",
     "exception": false,
     "start_time": "2023-03-19T14:30:09.672539",
     "status": "completed"
    },
    "tags": []
   },
   "outputs": [
    {
     "name": "stderr",
     "output_type": "stream",
     "text": [
      "/opt/conda/lib/python3.7/site-packages/torchvision/models/_utils.py:209: UserWarning: The parameter 'pretrained' is deprecated since 0.13 and will be removed in 0.15, please use 'weights' instead.\n",
      "  f\"The parameter '{pretrained_param}' is deprecated since 0.13 and will be removed in 0.15, \"\n",
      "/opt/conda/lib/python3.7/site-packages/torchvision/models/_utils.py:223: UserWarning: Arguments other than a weight enum or `None` for 'weights' are deprecated since 0.13 and will be removed in 0.15. The current behavior is equivalent to passing `weights=ResNet152_Weights.IMAGENET1K_V1`. You can also use `weights=ResNet152_Weights.DEFAULT` to get the most up-to-date weights.\n",
      "  warnings.warn(msg)\n",
      "Downloading: \"https://download.pytorch.org/models/resnet152-394f9c45.pth\" to /root/.cache/torch/hub/checkpoints/resnet152-394f9c45.pth\n"
     ]
    },
    {
     "data": {
      "application/vnd.jupyter.widget-view+json": {
       "model_id": "01c9484263754a25ab4e93b59dd576d5",
       "version_major": 2,
       "version_minor": 0
      },
      "text/plain": [
       "  0%|          | 0.00/230M [00:00<?, ?B/s]"
      ]
     },
     "metadata": {},
     "output_type": "display_data"
    }
   ],
   "source": [
    "class GetData(Dataset):\n",
    "    def __init__(self, FNames, Labels, Transform):\n",
    "        self.fnames = FNames\n",
    "        self.transform = Transform\n",
    "        self.labels = Labels         \n",
    "        \n",
    "    def __len__(self):\n",
    "        return len(self.fnames)\n",
    "\n",
    "    def __getitem__(self, index):       \n",
    "        x = Image.open(self.fnames[index])\n",
    "    \n",
    "        if \"train\" in self.fnames[index]:             \n",
    "            return self.transform(x), self.labels[index]\n",
    "        elif \"test\" in self.fnames[index]:            \n",
    "            return self.transform(x), self.fnames[index]\n",
    "\n",
    "                \n",
    "trainset = GetData(X_train, Y_train, Transform)\n",
    "trainloader = DataLoader(trainset, batch_size=batch_size, shuffle=True)\n",
    "\n",
    "valset = GetData(X_val, Y_val, Transform)\n",
    "valloader = DataLoader(valset, batch_size=batch_size, shuffle=True)\n",
    "\n",
    "N_Classes = train_df['genus'].nunique()\n",
    "\n",
    "device = 'cuda:0' if torch.cuda.is_available() else 'cpu'\n",
    "model = models.resnet152(pretrained=True)"
   ]
  },
  {
   "cell_type": "code",
   "execution_count": 16,
   "id": "bb8eb884",
   "metadata": {
    "execution": {
     "iopub.execute_input": "2023-03-19T14:30:13.983241Z",
     "iopub.status.busy": "2023-03-19T14:30:13.982931Z",
     "iopub.status.idle": "2023-03-19T14:30:16.362947Z",
     "shell.execute_reply": "2023-03-19T14:30:16.361740Z"
    },
    "papermill": {
     "duration": 2.390908,
     "end_time": "2023-03-19T14:30:16.365512",
     "exception": false,
     "start_time": "2023-03-19T14:30:13.974604",
     "status": "completed"
    },
    "tags": []
   },
   "outputs": [
    {
     "name": "stdout",
     "output_type": "stream",
     "text": [
      "2048\n",
      "1000\n",
      "158\n"
     ]
    }
   ],
   "source": [
    "print(model.fc.in_features) \n",
    "print(model.fc.out_features)\n",
    "\n",
    "for param in model.parameters():\n",
    "    param.requires_grad= False\n",
    "    \n",
    "n_inputs = model.fc.in_features\n",
    "last_layer = nn.Linear(n_inputs, N_Classes)\n",
    "model.fc = last_layer\n",
    "if torch.cuda.is_available():\n",
    "    model.cuda()\n",
    "print(model.fc.out_features)    \n",
    "\n",
    "criterion = nn.CrossEntropyLoss()\n",
    "optimizer = torch.optim.Adam(model.fc.parameters()) "
   ]
  },
  {
   "cell_type": "code",
   "execution_count": 17,
   "id": "e129627d",
   "metadata": {
    "execution": {
     "iopub.execute_input": "2023-03-19T14:30:16.382807Z",
     "iopub.status.busy": "2023-03-19T14:30:16.381867Z",
     "iopub.status.idle": "2023-03-19T14:30:16.390312Z",
     "shell.execute_reply": "2023-03-19T14:30:16.389702Z"
    },
    "papermill": {
     "duration": 0.018687,
     "end_time": "2023-03-19T14:30:16.392121",
     "exception": false,
     "start_time": "2023-03-19T14:30:16.373434",
     "status": "completed"
    },
    "tags": []
   },
   "outputs": [],
   "source": [
    "from tqdm import tqdm\n",
    "from sklearn.metrics import f1_score\n",
    "\n",
    "def train(trainloader, model, criterion, optimizer, scaler, device=torch.device(\"cpu\")):\n",
    "    train_acc = 0.0\n",
    "    train_loss = 0.0\n",
    "    y_true = []\n",
    "    y_pred = []\n",
    "    for images, labels in tqdm(trainloader):\n",
    "        images = images.to(device)\n",
    "        labels = labels.to(device)\n",
    "        optimizer.zero_grad()\n",
    "        with torch.cuda.amp.autocast(enabled=True):\n",
    "            output = model(images)\n",
    "            loss = criterion(output, labels)\n",
    "            scaler.scale(loss).backward()\n",
    "            scaler.step(optimizer)\n",
    "            scaler.update()\n",
    "            acc = ((output.argmax(dim=1) == labels).float().mean())\n",
    "            train_acc += acc\n",
    "            train_loss += loss\n",
    "            y_true += labels.cpu().numpy().tolist()\n",
    "            y_pred += output.argmax(dim=1).cpu().numpy().tolist()\n",
    "            \n",
    "    train_f1 = f1_score(y_true, y_pred, average='weighted')\n",
    "    return train_acc/len(trainloader), train_loss/len(trainloader), train_f1               "
   ]
  },
  {
   "cell_type": "code",
   "execution_count": 18,
   "id": "7bf9d33c",
   "metadata": {
    "execution": {
     "iopub.execute_input": "2023-03-19T14:30:16.409867Z",
     "iopub.status.busy": "2023-03-19T14:30:16.408468Z",
     "iopub.status.idle": "2023-03-19T14:30:16.416158Z",
     "shell.execute_reply": "2023-03-19T14:30:16.415278Z"
    },
    "papermill": {
     "duration": 0.018285,
     "end_time": "2023-03-19T14:30:16.418145",
     "exception": false,
     "start_time": "2023-03-19T14:30:16.399860",
     "status": "completed"
    },
    "tags": []
   },
   "outputs": [],
   "source": [
    "def evaluate(testloader, model, criterion, device=torch.device(\"cpu\")):\n",
    "    eval_acc = 0.0\n",
    "    eval_loss = 0.0\n",
    "    y_true = []\n",
    "    y_pred = []\n",
    "    for images, labels in tqdm(testloader):\n",
    "        images = images.to(device)\n",
    "        labels = labels.to(device)\n",
    "        with torch.no_grad():\n",
    "            output = model(images)\n",
    "            loss = criterion(output, labels)\n",
    "        acc = ((output.argmax(dim=1) == labels).float().mean())\n",
    "        eval_acc += acc\n",
    "        eval_loss += loss\n",
    "        y_true += labels.cpu().numpy().tolist()\n",
    "        y_pred += output.argmax(dim=1).cpu().numpy().tolist()\n",
    "  \n",
    "    eval_f1 = f1_score(y_true, y_pred, average='weighted')\n",
    "    return eval_acc/len(testloader), eval_loss/len(testloader), eval_f1    "
   ]
  },
  {
   "cell_type": "code",
   "execution_count": 19,
   "id": "bc8a84e0",
   "metadata": {
    "execution": {
     "iopub.execute_input": "2023-03-19T14:30:16.434368Z",
     "iopub.status.busy": "2023-03-19T14:30:16.434077Z",
     "iopub.status.idle": "2023-03-19T17:48:21.935979Z",
     "shell.execute_reply": "2023-03-19T17:48:21.934369Z"
    },
    "papermill": {
     "duration": 11885.512598,
     "end_time": "2023-03-19T17:48:21.938157",
     "exception": false,
     "start_time": "2023-03-19T14:30:16.425559",
     "status": "completed"
    },
    "tags": []
   },
   "outputs": [
    {
     "name": "stderr",
     "output_type": "stream",
     "text": [
      "100%|██████████| 335/335 [22:03<00:00,  3.95s/it]\n",
      "100%|██████████| 85/85 [05:35<00:00,  3.95s/it]\n"
     ]
    },
    {
     "name": "stdout",
     "output_type": "stream",
     "text": [
      "\n",
      "Epoch 1 | Train Acc: 20.608675003051758 | Train Loss: 3.513415813446045 | Train F1: 0.1598418999142951\n",
      "\t Val Acc: 25.547075271606445 | Val Loss: 3.1203560829162598 | Val F1: 0.20775677944439944\n",
      "================================\n"
     ]
    },
    {
     "name": "stderr",
     "output_type": "stream",
     "text": [
      "100%|██████████| 335/335 [15:46<00:00,  2.83s/it]\n",
      "100%|██████████| 85/85 [03:51<00:00,  2.72s/it]\n"
     ]
    },
    {
     "name": "stdout",
     "output_type": "stream",
     "text": [
      "\n",
      "Epoch 2 | Train Acc: 28.69216537475586 | Train Loss: 2.9161875247955322 | Train F1: 0.25476347372479874\n",
      "\t Val Acc: 27.287006378173828 | Val Loss: 2.9837615489959717 | Val F1: 0.23994211772953758\n",
      "================================\n"
     ]
    },
    {
     "name": "stderr",
     "output_type": "stream",
     "text": [
      "100%|██████████| 335/335 [15:52<00:00,  2.84s/it]\n",
      "100%|██████████| 85/85 [03:52<00:00,  2.74s/it]\n"
     ]
    },
    {
     "name": "stdout",
     "output_type": "stream",
     "text": [
      "\n",
      "Epoch 3 | Train Acc: 32.350746154785156 | Train Loss: 2.692206382751465 | Train F1: 0.30073310655401037\n",
      "\t Val Acc: 29.5808048248291 | Val Loss: 2.8595621585845947 | Val F1: 0.26202711873153717\n",
      "================================\n"
     ]
    },
    {
     "name": "stderr",
     "output_type": "stream",
     "text": [
      "100%|██████████| 335/335 [14:57<00:00,  2.68s/it]\n",
      "100%|██████████| 85/85 [03:50<00:00,  2.72s/it]\n"
     ]
    },
    {
     "name": "stdout",
     "output_type": "stream",
     "text": [
      "\n",
      "Epoch 4 | Train Acc: 35.05503463745117 | Train Loss: 2.5583415031433105 | Train F1: 0.3323781233900244\n",
      "\t Val Acc: 29.805389404296875 | Val Loss: 2.859518527984619 | Val F1: 0.28232800193812646\n",
      "================================\n"
     ]
    },
    {
     "name": "stderr",
     "output_type": "stream",
     "text": [
      "100%|██████████| 335/335 [14:57<00:00,  2.68s/it]\n",
      "100%|██████████| 85/85 [03:51<00:00,  2.73s/it]\n"
     ]
    },
    {
     "name": "stdout",
     "output_type": "stream",
     "text": [
      "\n",
      "Epoch 5 | Train Acc: 36.514461517333984 | Train Loss: 2.465211868286133 | Train F1: 0.3508680736099498\n",
      "\t Val Acc: 31.17087745666504 | Val Loss: 2.8142220973968506 | Val F1: 0.27815124705555155\n",
      "================================\n"
     ]
    },
    {
     "name": "stderr",
     "output_type": "stream",
     "text": [
      "100%|██████████| 335/335 [14:47<00:00,  2.65s/it]\n",
      "100%|██████████| 85/85 [03:47<00:00,  2.68s/it]\n"
     ]
    },
    {
     "name": "stdout",
     "output_type": "stream",
     "text": [
      "\n",
      "Epoch 6 | Train Acc: 38.34654998779297 | Train Loss: 2.3803882598876953 | Train F1: 0.3714161348257131\n",
      "\t Val Acc: 33.17455291748047 | Val Loss: 2.7106378078460693 | Val F1: 0.305143231476568\n",
      "================================\n"
     ]
    },
    {
     "name": "stderr",
     "output_type": "stream",
     "text": [
      "100%|██████████| 335/335 [14:36<00:00,  2.62s/it]\n",
      "100%|██████████| 85/85 [03:47<00:00,  2.68s/it]\n"
     ]
    },
    {
     "name": "stdout",
     "output_type": "stream",
     "text": [
      "\n",
      "Epoch 7 | Train Acc: 39.73227310180664 | Train Loss: 2.307873249053955 | Train F1: 0.3869662072802451\n",
      "\t Val Acc: 31.887786865234375 | Val Loss: 2.8076703548431396 | Val F1: 0.30357319827853\n",
      "================================\n"
     ]
    },
    {
     "name": "stderr",
     "output_type": "stream",
     "text": [
      "100%|██████████| 335/335 [14:39<00:00,  2.63s/it]\n",
      "100%|██████████| 85/85 [03:51<00:00,  2.72s/it]\n"
     ]
    },
    {
     "name": "stdout",
     "output_type": "stream",
     "text": [
      "\n",
      "Epoch 8 | Train Acc: 40.91231155395508 | Train Loss: 2.2569172382354736 | Train F1: 0.3987839905868106\n",
      "\t Val Acc: 32.80290985107422 | Val Loss: 2.722977876663208 | Val F1: 0.30159432344977705\n",
      "================================\n"
     ]
    },
    {
     "name": "stderr",
     "output_type": "stream",
     "text": [
      "100%|██████████| 335/335 [14:49<00:00,  2.66s/it]\n",
      "100%|██████████| 85/85 [03:49<00:00,  2.70s/it]\n"
     ]
    },
    {
     "name": "stdout",
     "output_type": "stream",
     "text": [
      "\n",
      "Epoch 9 | Train Acc: 41.914180755615234 | Train Loss: 2.2013325691223145 | Train F1: 0.41017023245059614\n",
      "\t Val Acc: 33.92543029785156 | Val Loss: 2.722827672958374 | Val F1: 0.31746760119990236\n",
      "================================\n"
     ]
    },
    {
     "name": "stderr",
     "output_type": "stream",
     "text": [
      "100%|██████████| 335/335 [15:18<00:00,  2.74s/it]\n",
      "100%|██████████| 85/85 [03:58<00:00,  2.80s/it]"
     ]
    },
    {
     "name": "stdout",
     "output_type": "stream",
     "text": [
      "\n",
      "Epoch 10 | Train Acc: 43.16044616699219 | Train Loss: 2.1540615558624268 | Train F1: 0.42295749748986955\n",
      "\t Val Acc: 32.712196350097656 | Val Loss: 2.729304552078247 | Val F1: 0.3137855142200746\n",
      "================================\n",
      "CPU times: user 2h 49min 26s, sys: 4min 54s, total: 2h 54min 21s\n",
      "Wall time: 3h 18min 5s\n"
     ]
    },
    {
     "name": "stderr",
     "output_type": "stream",
     "text": [
      "\n"
     ]
    }
   ],
   "source": [
    "%%time\n",
    "scaler = torch.cuda.amp.GradScaler(enabled=True)\n",
    "for epoch in range(epochs):\n",
    "    train_acc, train_loss, train_f1 = train(trainloader, model, criterion, optimizer, scaler, device=device)\n",
    "    eval_acc, eval_loss, eval_f1 = evaluate(valloader, model, criterion, device=torch.device(\"cuda\"))\n",
    "    print(\"\")\n",
    "    print(f\"Epoch {epoch + 1} | Train Acc: {train_acc*100} | Train Loss: {train_loss} | Train F1: {train_f1}\")\n",
    "    print(f\"\\t Val Acc: {eval_acc*100} | Val Loss: {eval_loss} | Val F1: {eval_f1}\")\n",
    "    print(\"====\"*8)"
   ]
  },
  {
   "cell_type": "code",
   "execution_count": null,
   "id": "5981c5f5",
   "metadata": {
    "papermill": {
     "duration": 0.226007,
     "end_time": "2023-03-19T17:48:22.455470",
     "exception": false,
     "start_time": "2023-03-19T17:48:22.229463",
     "status": "completed"
    },
    "tags": []
   },
   "outputs": [],
   "source": []
  }
 ],
 "metadata": {
  "kernelspec": {
   "display_name": "Python 3",
   "language": "python",
   "name": "python3"
  },
  "language_info": {
   "codemirror_mode": {
    "name": "ipython",
    "version": 3
   },
   "file_extension": ".py",
   "mimetype": "text/x-python",
   "name": "python",
   "nbconvert_exporter": "python",
   "pygments_lexer": "ipython3",
   "version": "3.7.12"
  },
  "papermill": {
   "default_parameters": {},
   "duration": 11974.181299,
   "end_time": "2023-03-19T17:48:25.989829",
   "environment_variables": {},
   "exception": null,
   "input_path": "__notebook__.ipynb",
   "output_path": "__notebook__.ipynb",
   "parameters": {},
   "start_time": "2023-03-19T14:28:51.808530",
   "version": "2.3.4"
  },
  "widgets": {
   "application/vnd.jupyter.widget-state+json": {
    "state": {
     "01c9484263754a25ab4e93b59dd576d5": {
      "model_module": "@jupyter-widgets/controls",
      "model_module_version": "1.5.0",
      "model_name": "HBoxModel",
      "state": {
       "_dom_classes": [],
       "_model_module": "@jupyter-widgets/controls",
       "_model_module_version": "1.5.0",
       "_model_name": "HBoxModel",
       "_view_count": null,
       "_view_module": "@jupyter-widgets/controls",
       "_view_module_version": "1.5.0",
       "_view_name": "HBoxView",
       "box_style": "",
       "children": [
        "IPY_MODEL_b8ea48879db2459ebdfae990c6f20cf1",
        "IPY_MODEL_580eddb626434b8194788b9fb9230be4",
        "IPY_MODEL_0d80ccf4fea24262a11ade3c32ef8f2c"
       ],
       "layout": "IPY_MODEL_b63f05ce9c4d478988c834f87ca47ca1"
      }
     },
     "0d80ccf4fea24262a11ade3c32ef8f2c": {
      "model_module": "@jupyter-widgets/controls",
      "model_module_version": "1.5.0",
      "model_name": "HTMLModel",
      "state": {
       "_dom_classes": [],
       "_model_module": "@jupyter-widgets/controls",
       "_model_module_version": "1.5.0",
       "_model_name": "HTMLModel",
       "_view_count": null,
       "_view_module": "@jupyter-widgets/controls",
       "_view_module_version": "1.5.0",
       "_view_name": "HTMLView",
       "description": "",
       "description_tooltip": null,
       "layout": "IPY_MODEL_10398d4a1bdc4a9199cb0e88fb0d79dc",
       "placeholder": "​",
       "style": "IPY_MODEL_92a0b57c06ff47e884a8d1c33c4dd17f",
       "value": " 230M/230M [00:02&lt;00:00, 85.7MB/s]"
      }
     },
     "10398d4a1bdc4a9199cb0e88fb0d79dc": {
      "model_module": "@jupyter-widgets/base",
      "model_module_version": "1.2.0",
      "model_name": "LayoutModel",
      "state": {
       "_model_module": "@jupyter-widgets/base",
       "_model_module_version": "1.2.0",
       "_model_name": "LayoutModel",
       "_view_count": null,
       "_view_module": "@jupyter-widgets/base",
       "_view_module_version": "1.2.0",
       "_view_name": "LayoutView",
       "align_content": null,
       "align_items": null,
       "align_self": null,
       "border": null,
       "bottom": null,
       "display": null,
       "flex": null,
       "flex_flow": null,
       "grid_area": null,
       "grid_auto_columns": null,
       "grid_auto_flow": null,
       "grid_auto_rows": null,
       "grid_column": null,
       "grid_gap": null,
       "grid_row": null,
       "grid_template_areas": null,
       "grid_template_columns": null,
       "grid_template_rows": null,
       "height": null,
       "justify_content": null,
       "justify_items": null,
       "left": null,
       "margin": null,
       "max_height": null,
       "max_width": null,
       "min_height": null,
       "min_width": null,
       "object_fit": null,
       "object_position": null,
       "order": null,
       "overflow": null,
       "overflow_x": null,
       "overflow_y": null,
       "padding": null,
       "right": null,
       "top": null,
       "visibility": null,
       "width": null
      }
     },
     "3520e73aff6f49d986ea8b9cf9e648a0": {
      "model_module": "@jupyter-widgets/base",
      "model_module_version": "1.2.0",
      "model_name": "LayoutModel",
      "state": {
       "_model_module": "@jupyter-widgets/base",
       "_model_module_version": "1.2.0",
       "_model_name": "LayoutModel",
       "_view_count": null,
       "_view_module": "@jupyter-widgets/base",
       "_view_module_version": "1.2.0",
       "_view_name": "LayoutView",
       "align_content": null,
       "align_items": null,
       "align_self": null,
       "border": null,
       "bottom": null,
       "display": null,
       "flex": null,
       "flex_flow": null,
       "grid_area": null,
       "grid_auto_columns": null,
       "grid_auto_flow": null,
       "grid_auto_rows": null,
       "grid_column": null,
       "grid_gap": null,
       "grid_row": null,
       "grid_template_areas": null,
       "grid_template_columns": null,
       "grid_template_rows": null,
       "height": null,
       "justify_content": null,
       "justify_items": null,
       "left": null,
       "margin": null,
       "max_height": null,
       "max_width": null,
       "min_height": null,
       "min_width": null,
       "object_fit": null,
       "object_position": null,
       "order": null,
       "overflow": null,
       "overflow_x": null,
       "overflow_y": null,
       "padding": null,
       "right": null,
       "top": null,
       "visibility": null,
       "width": null
      }
     },
     "580eddb626434b8194788b9fb9230be4": {
      "model_module": "@jupyter-widgets/controls",
      "model_module_version": "1.5.0",
      "model_name": "FloatProgressModel",
      "state": {
       "_dom_classes": [],
       "_model_module": "@jupyter-widgets/controls",
       "_model_module_version": "1.5.0",
       "_model_name": "FloatProgressModel",
       "_view_count": null,
       "_view_module": "@jupyter-widgets/controls",
       "_view_module_version": "1.5.0",
       "_view_name": "ProgressView",
       "bar_style": "success",
       "description": "",
       "description_tooltip": null,
       "layout": "IPY_MODEL_3520e73aff6f49d986ea8b9cf9e648a0",
       "max": 241627721.0,
       "min": 0.0,
       "orientation": "horizontal",
       "style": "IPY_MODEL_87b689baf7b2463eb524ace505d65f46",
       "value": 241627721.0
      }
     },
     "6680c0a7a36141c48be44ee7b098d345": {
      "model_module": "@jupyter-widgets/base",
      "model_module_version": "1.2.0",
      "model_name": "LayoutModel",
      "state": {
       "_model_module": "@jupyter-widgets/base",
       "_model_module_version": "1.2.0",
       "_model_name": "LayoutModel",
       "_view_count": null,
       "_view_module": "@jupyter-widgets/base",
       "_view_module_version": "1.2.0",
       "_view_name": "LayoutView",
       "align_content": null,
       "align_items": null,
       "align_self": null,
       "border": null,
       "bottom": null,
       "display": null,
       "flex": null,
       "flex_flow": null,
       "grid_area": null,
       "grid_auto_columns": null,
       "grid_auto_flow": null,
       "grid_auto_rows": null,
       "grid_column": null,
       "grid_gap": null,
       "grid_row": null,
       "grid_template_areas": null,
       "grid_template_columns": null,
       "grid_template_rows": null,
       "height": null,
       "justify_content": null,
       "justify_items": null,
       "left": null,
       "margin": null,
       "max_height": null,
       "max_width": null,
       "min_height": null,
       "min_width": null,
       "object_fit": null,
       "object_position": null,
       "order": null,
       "overflow": null,
       "overflow_x": null,
       "overflow_y": null,
       "padding": null,
       "right": null,
       "top": null,
       "visibility": null,
       "width": null
      }
     },
     "87ae4b39e5e34e83841d1c8cb16d6c25": {
      "model_module": "@jupyter-widgets/controls",
      "model_module_version": "1.5.0",
      "model_name": "DescriptionStyleModel",
      "state": {
       "_model_module": "@jupyter-widgets/controls",
       "_model_module_version": "1.5.0",
       "_model_name": "DescriptionStyleModel",
       "_view_count": null,
       "_view_module": "@jupyter-widgets/base",
       "_view_module_version": "1.2.0",
       "_view_name": "StyleView",
       "description_width": ""
      }
     },
     "87b689baf7b2463eb524ace505d65f46": {
      "model_module": "@jupyter-widgets/controls",
      "model_module_version": "1.5.0",
      "model_name": "ProgressStyleModel",
      "state": {
       "_model_module": "@jupyter-widgets/controls",
       "_model_module_version": "1.5.0",
       "_model_name": "ProgressStyleModel",
       "_view_count": null,
       "_view_module": "@jupyter-widgets/base",
       "_view_module_version": "1.2.0",
       "_view_name": "StyleView",
       "bar_color": null,
       "description_width": ""
      }
     },
     "92a0b57c06ff47e884a8d1c33c4dd17f": {
      "model_module": "@jupyter-widgets/controls",
      "model_module_version": "1.5.0",
      "model_name": "DescriptionStyleModel",
      "state": {
       "_model_module": "@jupyter-widgets/controls",
       "_model_module_version": "1.5.0",
       "_model_name": "DescriptionStyleModel",
       "_view_count": null,
       "_view_module": "@jupyter-widgets/base",
       "_view_module_version": "1.2.0",
       "_view_name": "StyleView",
       "description_width": ""
      }
     },
     "b63f05ce9c4d478988c834f87ca47ca1": {
      "model_module": "@jupyter-widgets/base",
      "model_module_version": "1.2.0",
      "model_name": "LayoutModel",
      "state": {
       "_model_module": "@jupyter-widgets/base",
       "_model_module_version": "1.2.0",
       "_model_name": "LayoutModel",
       "_view_count": null,
       "_view_module": "@jupyter-widgets/base",
       "_view_module_version": "1.2.0",
       "_view_name": "LayoutView",
       "align_content": null,
       "align_items": null,
       "align_self": null,
       "border": null,
       "bottom": null,
       "display": null,
       "flex": null,
       "flex_flow": null,
       "grid_area": null,
       "grid_auto_columns": null,
       "grid_auto_flow": null,
       "grid_auto_rows": null,
       "grid_column": null,
       "grid_gap": null,
       "grid_row": null,
       "grid_template_areas": null,
       "grid_template_columns": null,
       "grid_template_rows": null,
       "height": null,
       "justify_content": null,
       "justify_items": null,
       "left": null,
       "margin": null,
       "max_height": null,
       "max_width": null,
       "min_height": null,
       "min_width": null,
       "object_fit": null,
       "object_position": null,
       "order": null,
       "overflow": null,
       "overflow_x": null,
       "overflow_y": null,
       "padding": null,
       "right": null,
       "top": null,
       "visibility": null,
       "width": null
      }
     },
     "b8ea48879db2459ebdfae990c6f20cf1": {
      "model_module": "@jupyter-widgets/controls",
      "model_module_version": "1.5.0",
      "model_name": "HTMLModel",
      "state": {
       "_dom_classes": [],
       "_model_module": "@jupyter-widgets/controls",
       "_model_module_version": "1.5.0",
       "_model_name": "HTMLModel",
       "_view_count": null,
       "_view_module": "@jupyter-widgets/controls",
       "_view_module_version": "1.5.0",
       "_view_name": "HTMLView",
       "description": "",
       "description_tooltip": null,
       "layout": "IPY_MODEL_6680c0a7a36141c48be44ee7b098d345",
       "placeholder": "​",
       "style": "IPY_MODEL_87ae4b39e5e34e83841d1c8cb16d6c25",
       "value": "100%"
      }
     }
    },
    "version_major": 2,
    "version_minor": 0
   }
  }
 },
 "nbformat": 4,
 "nbformat_minor": 5
}
