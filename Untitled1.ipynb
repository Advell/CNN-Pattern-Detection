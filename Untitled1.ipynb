{
  "nbformat": 4,
  "nbformat_minor": 0,
  "metadata": {
    "colab": {
      "provenance": [],
      "authorship_tag": "ABX9TyNtAO6R4m0u1pXpJAo6rjH7",
      "include_colab_link": true
    },
    "kernelspec": {
      "name": "python3",
      "display_name": "Python 3"
    },
    "language_info": {
      "name": "python"
    }
  },
  "cells": [
    {
      "cell_type": "markdown",
      "metadata": {
        "id": "view-in-github",
        "colab_type": "text"
      },
      "source": [
        "<a href=\"https://colab.research.google.com/github/Advell/Herbarium-Plant-Classification/blob/main/Untitled1.ipynb\" target=\"_parent\"><img src=\"https://colab.research.google.com/assets/colab-badge.svg\" alt=\"Open In Colab\"/></a>"
      ]
    },
    {
      "cell_type": "markdown",
      "source": [
        "**EXPLORATORY DATA ANALYSIS**"
      ],
      "metadata": {
        "id": "taafAGy_axMK"
      }
    },
    {
      "cell_type": "code",
      "execution_count": 1,
      "metadata": {
        "colab": {
          "base_uri": "https://localhost:8080/",
          "height": 329
        },
        "id": "5lpzKScfZBU4",
        "outputId": "477c3c69-64cf-44d9-cfe6-f2760a300a98"
      },
      "outputs": [
        {
          "output_type": "error",
          "ename": "FileNotFoundError",
          "evalue": "[Errno 2] No such file or directory: '/content/medallia_dataset.xlsx'",
          "traceback": [
            "\u001b[0;31m---------------------------------------------------------------------------\u001b[0m",
            "\u001b[0;31mFileNotFoundError\u001b[0m                         Traceback (most recent call last)",
            "\u001b[0;32m<ipython-input-1-2fe52e7ce296>\u001b[0m in \u001b[0;36m<cell line: 8>\u001b[0;34m()\u001b[0m\n\u001b[1;32m      6\u001b[0m \u001b[0;31m# Read the CSV file\u001b[0m\u001b[0;34m\u001b[0m\u001b[0;34m\u001b[0m\u001b[0m\n\u001b[1;32m      7\u001b[0m \u001b[0mexcel_file_path\u001b[0m \u001b[0;34m=\u001b[0m \u001b[0;34m'/content/medallia_dataset.xlsx'\u001b[0m\u001b[0;34m\u001b[0m\u001b[0;34m\u001b[0m\u001b[0m\n\u001b[0;32m----> 8\u001b[0;31m \u001b[0mdf\u001b[0m \u001b[0;34m=\u001b[0m \u001b[0mpd\u001b[0m\u001b[0;34m.\u001b[0m\u001b[0mread_excel\u001b[0m\u001b[0;34m(\u001b[0m\u001b[0mexcel_file_path\u001b[0m\u001b[0;34m)\u001b[0m\u001b[0;34m\u001b[0m\u001b[0;34m\u001b[0m\u001b[0m\n\u001b[0m",
            "\u001b[0;32m/usr/local/lib/python3.10/dist-packages/pandas/util/_decorators.py\u001b[0m in \u001b[0;36mwrapper\u001b[0;34m(*args, **kwargs)\u001b[0m\n\u001b[1;32m    209\u001b[0m                 \u001b[0;32melse\u001b[0m\u001b[0;34m:\u001b[0m\u001b[0;34m\u001b[0m\u001b[0;34m\u001b[0m\u001b[0m\n\u001b[1;32m    210\u001b[0m                     \u001b[0mkwargs\u001b[0m\u001b[0;34m[\u001b[0m\u001b[0mnew_arg_name\u001b[0m\u001b[0;34m]\u001b[0m \u001b[0;34m=\u001b[0m \u001b[0mnew_arg_value\u001b[0m\u001b[0;34m\u001b[0m\u001b[0;34m\u001b[0m\u001b[0m\n\u001b[0;32m--> 211\u001b[0;31m             \u001b[0;32mreturn\u001b[0m \u001b[0mfunc\u001b[0m\u001b[0;34m(\u001b[0m\u001b[0;34m*\u001b[0m\u001b[0margs\u001b[0m\u001b[0;34m,\u001b[0m \u001b[0;34m**\u001b[0m\u001b[0mkwargs\u001b[0m\u001b[0;34m)\u001b[0m\u001b[0;34m\u001b[0m\u001b[0;34m\u001b[0m\u001b[0m\n\u001b[0m\u001b[1;32m    212\u001b[0m \u001b[0;34m\u001b[0m\u001b[0m\n\u001b[1;32m    213\u001b[0m         \u001b[0;32mreturn\u001b[0m \u001b[0mcast\u001b[0m\u001b[0;34m(\u001b[0m\u001b[0mF\u001b[0m\u001b[0;34m,\u001b[0m \u001b[0mwrapper\u001b[0m\u001b[0;34m)\u001b[0m\u001b[0;34m\u001b[0m\u001b[0;34m\u001b[0m\u001b[0m\n",
            "\u001b[0;32m/usr/local/lib/python3.10/dist-packages/pandas/util/_decorators.py\u001b[0m in \u001b[0;36mwrapper\u001b[0;34m(*args, **kwargs)\u001b[0m\n\u001b[1;32m    329\u001b[0m                     \u001b[0mstacklevel\u001b[0m\u001b[0;34m=\u001b[0m\u001b[0mfind_stack_level\u001b[0m\u001b[0;34m(\u001b[0m\u001b[0;34m)\u001b[0m\u001b[0;34m,\u001b[0m\u001b[0;34m\u001b[0m\u001b[0;34m\u001b[0m\u001b[0m\n\u001b[1;32m    330\u001b[0m                 )\n\u001b[0;32m--> 331\u001b[0;31m             \u001b[0;32mreturn\u001b[0m \u001b[0mfunc\u001b[0m\u001b[0;34m(\u001b[0m\u001b[0;34m*\u001b[0m\u001b[0margs\u001b[0m\u001b[0;34m,\u001b[0m \u001b[0;34m**\u001b[0m\u001b[0mkwargs\u001b[0m\u001b[0;34m)\u001b[0m\u001b[0;34m\u001b[0m\u001b[0;34m\u001b[0m\u001b[0m\n\u001b[0m\u001b[1;32m    332\u001b[0m \u001b[0;34m\u001b[0m\u001b[0m\n\u001b[1;32m    333\u001b[0m         \u001b[0;31m# error: \"Callable[[VarArg(Any), KwArg(Any)], Any]\" has no\u001b[0m\u001b[0;34m\u001b[0m\u001b[0;34m\u001b[0m\u001b[0m\n",
            "\u001b[0;32m/usr/local/lib/python3.10/dist-packages/pandas/io/excel/_base.py\u001b[0m in \u001b[0;36mread_excel\u001b[0;34m(io, sheet_name, header, names, index_col, usecols, squeeze, dtype, engine, converters, true_values, false_values, skiprows, nrows, na_values, keep_default_na, na_filter, verbose, parse_dates, date_parser, thousands, decimal, comment, skipfooter, convert_float, mangle_dupe_cols, storage_options)\u001b[0m\n\u001b[1;32m    480\u001b[0m     \u001b[0;32mif\u001b[0m \u001b[0;32mnot\u001b[0m \u001b[0misinstance\u001b[0m\u001b[0;34m(\u001b[0m\u001b[0mio\u001b[0m\u001b[0;34m,\u001b[0m \u001b[0mExcelFile\u001b[0m\u001b[0;34m)\u001b[0m\u001b[0;34m:\u001b[0m\u001b[0;34m\u001b[0m\u001b[0;34m\u001b[0m\u001b[0m\n\u001b[1;32m    481\u001b[0m         \u001b[0mshould_close\u001b[0m \u001b[0;34m=\u001b[0m \u001b[0;32mTrue\u001b[0m\u001b[0;34m\u001b[0m\u001b[0;34m\u001b[0m\u001b[0m\n\u001b[0;32m--> 482\u001b[0;31m         \u001b[0mio\u001b[0m \u001b[0;34m=\u001b[0m \u001b[0mExcelFile\u001b[0m\u001b[0;34m(\u001b[0m\u001b[0mio\u001b[0m\u001b[0;34m,\u001b[0m \u001b[0mstorage_options\u001b[0m\u001b[0;34m=\u001b[0m\u001b[0mstorage_options\u001b[0m\u001b[0;34m,\u001b[0m \u001b[0mengine\u001b[0m\u001b[0;34m=\u001b[0m\u001b[0mengine\u001b[0m\u001b[0;34m)\u001b[0m\u001b[0;34m\u001b[0m\u001b[0;34m\u001b[0m\u001b[0m\n\u001b[0m\u001b[1;32m    483\u001b[0m     \u001b[0;32melif\u001b[0m \u001b[0mengine\u001b[0m \u001b[0;32mand\u001b[0m \u001b[0mengine\u001b[0m \u001b[0;34m!=\u001b[0m \u001b[0mio\u001b[0m\u001b[0;34m.\u001b[0m\u001b[0mengine\u001b[0m\u001b[0;34m:\u001b[0m\u001b[0;34m\u001b[0m\u001b[0;34m\u001b[0m\u001b[0m\n\u001b[1;32m    484\u001b[0m         raise ValueError(\n",
            "\u001b[0;32m/usr/local/lib/python3.10/dist-packages/pandas/io/excel/_base.py\u001b[0m in \u001b[0;36m__init__\u001b[0;34m(self, path_or_buffer, engine, storage_options)\u001b[0m\n\u001b[1;32m   1650\u001b[0m                 \u001b[0mext\u001b[0m \u001b[0;34m=\u001b[0m \u001b[0;34m\"xls\"\u001b[0m\u001b[0;34m\u001b[0m\u001b[0;34m\u001b[0m\u001b[0m\n\u001b[1;32m   1651\u001b[0m             \u001b[0;32melse\u001b[0m\u001b[0;34m:\u001b[0m\u001b[0;34m\u001b[0m\u001b[0;34m\u001b[0m\u001b[0m\n\u001b[0;32m-> 1652\u001b[0;31m                 ext = inspect_excel_format(\n\u001b[0m\u001b[1;32m   1653\u001b[0m                     \u001b[0mcontent_or_path\u001b[0m\u001b[0;34m=\u001b[0m\u001b[0mpath_or_buffer\u001b[0m\u001b[0;34m,\u001b[0m \u001b[0mstorage_options\u001b[0m\u001b[0;34m=\u001b[0m\u001b[0mstorage_options\u001b[0m\u001b[0;34m\u001b[0m\u001b[0;34m\u001b[0m\u001b[0m\n\u001b[1;32m   1654\u001b[0m                 )\n",
            "\u001b[0;32m/usr/local/lib/python3.10/dist-packages/pandas/io/excel/_base.py\u001b[0m in \u001b[0;36minspect_excel_format\u001b[0;34m(content_or_path, storage_options)\u001b[0m\n\u001b[1;32m   1523\u001b[0m         \u001b[0mcontent_or_path\u001b[0m \u001b[0;34m=\u001b[0m \u001b[0mBytesIO\u001b[0m\u001b[0;34m(\u001b[0m\u001b[0mcontent_or_path\u001b[0m\u001b[0;34m)\u001b[0m\u001b[0;34m\u001b[0m\u001b[0;34m\u001b[0m\u001b[0m\n\u001b[1;32m   1524\u001b[0m \u001b[0;34m\u001b[0m\u001b[0m\n\u001b[0;32m-> 1525\u001b[0;31m     with get_handle(\n\u001b[0m\u001b[1;32m   1526\u001b[0m         \u001b[0mcontent_or_path\u001b[0m\u001b[0;34m,\u001b[0m \u001b[0;34m\"rb\"\u001b[0m\u001b[0;34m,\u001b[0m \u001b[0mstorage_options\u001b[0m\u001b[0;34m=\u001b[0m\u001b[0mstorage_options\u001b[0m\u001b[0;34m,\u001b[0m \u001b[0mis_text\u001b[0m\u001b[0;34m=\u001b[0m\u001b[0;32mFalse\u001b[0m\u001b[0;34m\u001b[0m\u001b[0;34m\u001b[0m\u001b[0m\n\u001b[1;32m   1527\u001b[0m     ) as handle:\n",
            "\u001b[0;32m/usr/local/lib/python3.10/dist-packages/pandas/io/common.py\u001b[0m in \u001b[0;36mget_handle\u001b[0;34m(path_or_buf, mode, encoding, compression, memory_map, is_text, errors, storage_options)\u001b[0m\n\u001b[1;32m    863\u001b[0m         \u001b[0;32melse\u001b[0m\u001b[0;34m:\u001b[0m\u001b[0;34m\u001b[0m\u001b[0;34m\u001b[0m\u001b[0m\n\u001b[1;32m    864\u001b[0m             \u001b[0;31m# Binary mode\u001b[0m\u001b[0;34m\u001b[0m\u001b[0;34m\u001b[0m\u001b[0m\n\u001b[0;32m--> 865\u001b[0;31m             \u001b[0mhandle\u001b[0m \u001b[0;34m=\u001b[0m \u001b[0mopen\u001b[0m\u001b[0;34m(\u001b[0m\u001b[0mhandle\u001b[0m\u001b[0;34m,\u001b[0m \u001b[0mioargs\u001b[0m\u001b[0;34m.\u001b[0m\u001b[0mmode\u001b[0m\u001b[0;34m)\u001b[0m\u001b[0;34m\u001b[0m\u001b[0;34m\u001b[0m\u001b[0m\n\u001b[0m\u001b[1;32m    866\u001b[0m         \u001b[0mhandles\u001b[0m\u001b[0;34m.\u001b[0m\u001b[0mappend\u001b[0m\u001b[0;34m(\u001b[0m\u001b[0mhandle\u001b[0m\u001b[0;34m)\u001b[0m\u001b[0;34m\u001b[0m\u001b[0;34m\u001b[0m\u001b[0m\n\u001b[1;32m    867\u001b[0m \u001b[0;34m\u001b[0m\u001b[0m\n",
            "\u001b[0;31mFileNotFoundError\u001b[0m: [Errno 2] No such file or directory: '/content/medallia_dataset.xlsx'"
          ]
        }
      ],
      "source": [
        "import pandas as pd\n",
        "\n",
        "pd.set_option('display.max_columns', None)  # Show all rows\n",
        "pd.set_option('display.max_rows', 10)  # Show all rows\n",
        "\n",
        "# Read the CSV file\n",
        "excel_file_path = '/content/medallia_dataset.xlsx'\n",
        "df = pd.read_excel(excel_file_path)"
      ]
    },
    {
      "cell_type": "code",
      "source": [
        "stores = df[\"Store\"].value_counts()\n",
        "stores"
      ],
      "metadata": {
        "id": "TsJMUXT2ZHOq"
      },
      "execution_count": null,
      "outputs": []
    },
    {
      "cell_type": "markdown",
      "source": [
        "**Create a dataframe with store name and likelihood to recommend score**"
      ],
      "metadata": {
        "id": "5h8Tz99FcrNK"
      }
    },
    {
      "cell_type": "code",
      "source": [
        "store_col = df[\"Store\"]\n",
        "likelihood_to_rec = df[\"Likelihood to Recommend of Store\"]\n",
        "\n",
        "new_df = pd.DataFrame({\n",
        "    'Store name': store_col,\n",
        "    'Likelihood to recommend': likelihood_to_rec\n",
        "})\n",
        "\n",
        "#Drop null values\n",
        "new_df = new_df.dropna()\n",
        "new_df"
      ],
      "metadata": {
        "id": "nFY7RZNPcqFG"
      },
      "execution_count": null,
      "outputs": []
    },
    {
      "cell_type": "code",
      "source": [
        "# Group the DataFrame by store name and calculate the average likelihood to recommend for each store.\n",
        "average_likelihood = new_df.groupby('Store name')['Likelihood to recommend'].mean().to_frame()\n",
        "# Sort in descending order\n",
        "average_likelihood = average_likelihood.sort_values(by='Likelihood to recommend', ascending=False)\n",
        "\n",
        "pd.set_option('max_colwidth', 500)\n",
        "\n",
        "average_likelihood.head()"
      ],
      "metadata": {
        "id": "OyI8ruSje3Z2"
      },
      "execution_count": null,
      "outputs": []
    },
    {
      "cell_type": "markdown",
      "source": [
        "**Calculate and add NPS score column**"
      ],
      "metadata": {
        "id": "U7yK6JmbiQvF"
      }
    },
    {
      "cell_type": "code",
      "source": [
        "# Create a new column NPS Category based on Likelihood to recommend scores\n",
        "new_df['NPS Category'] = pd.cut(new_df['Likelihood to recommend'], bins=[0, 6, 8, 10], labels=['Detractor', 'Passive', 'Promoter'])"
      ],
      "metadata": {
        "id": "HxuAw6YZiP8H"
      },
      "execution_count": null,
      "outputs": []
    },
    {
      "cell_type": "code",
      "source": [
        "new_df"
      ],
      "metadata": {
        "id": "VGrjKc8Pe5kB"
      },
      "execution_count": null,
      "outputs": []
    },
    {
      "cell_type": "code",
      "source": [
        "# Group the DataFrame by 'Store name' and 'NPS Category', and calculate the counts\n",
        "grouped = new_df.groupby(['Store name', 'NPS Category']).size().unstack(fill_value=0)\n",
        "\n",
        "# Calculate the total count of responses for each store\n",
        "grouped['Total'] = grouped.sum(axis=1)"
      ],
      "metadata": {
        "id": "GRG24mlke9SW"
      },
      "execution_count": null,
      "outputs": []
    },
    {
      "cell_type": "code",
      "source": [
        "grouped"
      ],
      "metadata": {
        "id": "lgpjPIsOoxAZ"
      },
      "execution_count": null,
      "outputs": []
    },
    {
      "cell_type": "code",
      "source": [
        "grouped['% Promoters'] = grouped['Promoter'] / grouped['Total'] * 100\n",
        "grouped['% Passives'] = grouped['Passive'] / grouped['Total'] * 100\n",
        "grouped['% Detractors'] = grouped['Detractor'] / grouped['Total'] * 100\n",
        "grouped['NPS'] = grouped['% Promoters'] - grouped['% Detractors']\n",
        "grouped"
      ],
      "metadata": {
        "id": "z1WZJzU8o12R"
      },
      "execution_count": null,
      "outputs": []
    },
    {
      "cell_type": "code",
      "source": [
        "nps_df = grouped.sort_values(by='NPS', ascending=False)\n",
        "likelihood_to_recommend = average_likelihood"
      ],
      "metadata": {
        "id": "JVGP_FJSp8Iw"
      },
      "execution_count": null,
      "outputs": []
    },
    {
      "cell_type": "code",
      "source": [
        "nps_df = nps_df.drop(columns=['Detractor'])\n",
        "nps_df = nps_df.drop(columns=['Passive'])\n",
        "nps_df = nps_df.drop(columns=['Promoter'])\n",
        "nps_df"
      ],
      "metadata": {
        "id": "esu8nAvkqPcK"
      },
      "execution_count": null,
      "outputs": []
    },
    {
      "cell_type": "code",
      "source": [
        "likelihood_to_recommend"
      ],
      "metadata": {
        "id": "qYm58Ye9qp8N"
      },
      "execution_count": null,
      "outputs": []
    },
    {
      "cell_type": "code",
      "source": [
        "final_df = pd.merge(nps_df, likelihood_to_recommend, on='Store name', how='inner')"
      ],
      "metadata": {
        "id": "61XmRI_3qsc3"
      },
      "execution_count": null,
      "outputs": []
    },
    {
      "cell_type": "code",
      "source": [
        "final_df.head()"
      ],
      "metadata": {
        "id": "huDrW3j2vIu6"
      },
      "execution_count": null,
      "outputs": []
    },
    {
      "cell_type": "code",
      "source": [
        "# Plotting\n",
        "plt.figure(figsize=(10, 6))\n",
        "plt.scatter(final_df['NPS'], final_df['Likelihood to recommend'], color='blue')\n",
        "plt.title('Likelihood to Recommend vs NPS')\n",
        "plt.xlabel('NPS (Net Promoter Score)')\n",
        "plt.ylabel('Likelihood to Recommend')\n",
        "plt.show()"
      ],
      "metadata": {
        "id": "p_KtDzxcbbzU"
      },
      "execution_count": null,
      "outputs": []
    },
    {
      "cell_type": "markdown",
      "source": [
        "**Plot the relationship between NPS and Likelihood to recommend**"
      ],
      "metadata": {
        "id": "mQVwAd5vvbfA"
      }
    },
    {
      "cell_type": "code",
      "source": [
        "import seaborn as sns\n",
        "import matplotlib.pyplot as plt"
      ],
      "metadata": {
        "id": "sSl6dxVzwwbQ"
      },
      "execution_count": null,
      "outputs": []
    },
    {
      "cell_type": "code",
      "source": [
        "plt.scatter(final_df['NPS'], final_df['Likelihood to recommend'])\n",
        "plt.xlabel('NPS')\n",
        "plt.ylabel('Likelihood to recommend')\n",
        "plt.title('NPS and Likelihood to recommend')\n",
        "plt.show()"
      ],
      "metadata": {
        "id": "SXiAcWGmvJz4"
      },
      "execution_count": null,
      "outputs": []
    },
    {
      "cell_type": "code",
      "source": [
        "# Line Plot\n",
        "plt.plot(final_df['NPS'], final_df['Likelihood to recommend'])\n",
        "plt.xlabel('NPS')\n",
        "plt.ylabel('Likelihood to recommend')\n",
        "plt.title('Line Plot: Relationship between NPS and Likelihood to recommend')\n",
        "plt.show()"
      ],
      "metadata": {
        "id": "_Qp81PKVwQGZ"
      },
      "execution_count": null,
      "outputs": []
    },
    {
      "cell_type": "code",
      "source": [
        "greeted = df[\"Greeted\"]\n",
        "assistance = df[\"Received Assistance\"]\n",
        "recommend = df[\"Likelihood to Recommend of Store\"]\n",
        "satisfaction = df[\"Satisfaction with Service\"]\n",
        "\n",
        "greeting = pd.DataFrame({\n",
        "    'Greeted': greeted,\n",
        "    'Received Assistance': assistance,\n",
        "    'Likelihood to Recommend' : recommend,\n",
        "    'Satisfaction' : satisfaction\n",
        " })\n",
        "\n",
        "greeting"
      ],
      "metadata": {
        "id": "xiKD6WVAwtnN"
      },
      "execution_count": null,
      "outputs": []
    },
    {
      "cell_type": "markdown",
      "source": [
        "**Relationship between greeting and receiving assistance**"
      ],
      "metadata": {
        "id": "w0ZZiv8I7ncL"
      }
    },
    {
      "cell_type": "code",
      "source": [
        "contingency_table = pd.crosstab(greeting['Greeted'], greeting['Received Assistance'])\n",
        "\n",
        "# Plot the contingency table as a heatmap\n",
        "plt.figure(figsize=(8, 6))\n",
        "sns.heatmap(contingency_table, annot=True, cmap='coolwarm', fmt='d')\n",
        "plt.xlabel('Received Assistance')\n",
        "plt.ylabel('Greeted')\n",
        "plt.title('Relationship between greeting and receiving assistance')\n",
        "plt.show()"
      ],
      "metadata": {
        "id": "1vQl0bM64TY5"
      },
      "execution_count": null,
      "outputs": []
    },
    {
      "cell_type": "markdown",
      "source": [
        "\n",
        "**Relationship between receiving assistance and likelihood to recommend store**"
      ],
      "metadata": {
        "id": "GFCEA1Ce7sIL"
      }
    },
    {
      "cell_type": "code",
      "source": [
        "plt.figure(figsize=(8, 6))\n",
        "sns.countplot(data=greeting, x='Received Assistance', hue='Likelihood to Recommend')\n",
        "plt.xlabel('Yes_No_Column')\n",
        "plt.ylabel('Count')\n",
        "plt.title('Relationship between Receiving Assistance and Likelihood to Recommend')\n",
        "plt.grid(True)\n",
        "plt.show()"
      ],
      "metadata": {
        "id": "3jLyqu9M6jss"
      },
      "execution_count": null,
      "outputs": []
    },
    {
      "cell_type": "markdown",
      "source": [
        "**Relationship between receiving assistance and Satisfaction**"
      ],
      "metadata": {
        "id": "qqst96V5HzWK"
      }
    },
    {
      "cell_type": "code",
      "source": [
        "plt.figure(figsize=(8, 6))\n",
        "sns.countplot(data=greeting, x='Received Assistance', hue='Satisfaction')\n",
        "plt.xlabel('Received Assistance')\n",
        "plt.ylabel('Count')\n",
        "plt.title('Relationship between Receiving Assistance and Satisfaction with Service')\n",
        "plt.grid(True)\n",
        "plt.show()"
      ],
      "metadata": {
        "id": "YwnbyO_H76Ck"
      },
      "execution_count": null,
      "outputs": []
    },
    {
      "cell_type": "code",
      "source": [
        "further = pd.DataFrame({\n",
        "    'Recommend': df[\"Likelihood to Recommend of Store\"],\n",
        "    'Satisfaction With Store Experience': df[\"Satisfaction with Store Experience\"],\n",
        "    'Checkout': df[\"Ease of Checkout\"],\n",
        "    'Ease Of Finding What You Were Looking For': df[\"Ease of Finding What You Were Looking For\"],\n",
        "    'Product Availability': df[\"Availability of Product\"],\n",
        "    'Store Appearance': df[\"Appearance of the Store\"],\n",
        "    'Satisfaction With Service': df[\"Satisfaction with Service\"],\n",
        "    'Helpful': df[\"Helpful\"],\n",
        "    'Knowledgable': df[\"Knowledgeable\"],\n",
        "    'Treatment': df[\"Treated You Like a Valued Customer\"],\n",
        "    'Staff Availability': df[\"Staff Availability\"],\n",
        "    'Selection': df[\"Selection\"],\n",
        "    'Value For Price Paid': df[\"Value for Price Paid\"],\n",
        "    'Quality': df[\"Quality\"],\n",
        "    'Ease Of Use': df[\"Ease of Use\"]\n",
        "})\n",
        "\n",
        "further"
      ],
      "metadata": {
        "id": "vrsVx7vsHrcz"
      },
      "execution_count": null,
      "outputs": []
    },
    {
      "cell_type": "code",
      "source": [
        "# Create a pairplot to visualize the correlations\n",
        "sns.pairplot(further)\n",
        "plt.show()"
      ],
      "metadata": {
        "id": "k0C6u_wgM3Ig"
      },
      "execution_count": null,
      "outputs": []
    },
    {
      "cell_type": "code",
      "source": [
        "easeOfUse_knowledgable = pd.DataFrame({\n",
        "    'Ease Of Use': df[\"Ease of Use\"],\n",
        "    'Knowledgable': df[\"Knowledgeable\"],\n",
        "})\n",
        "\n",
        "# Calculate average Ease Of Use for each unique Knowledgable value\n",
        "avg_ease_of_use = easeOfUse_knowledgable.groupby('Knowledgable')['Ease Of Use'].mean()\n",
        "\n",
        "# Plotting the average line\n",
        "plt.plot(avg_ease_of_use.index, avg_ease_of_use.values, marker='o')\n",
        "plt.xlabel('Knowledgable')\n",
        "plt.ylabel('Average Ease Of Use')\n",
        "plt.title('Average Ease Of Use vs Knowledgable')\n",
        "plt.grid(True)\n",
        "plt.show()"
      ],
      "metadata": {
        "id": "HdqqtgqwNoFT"
      },
      "execution_count": null,
      "outputs": []
    },
    {
      "cell_type": "code",
      "source": [
        "easeOfUse_quality = pd.DataFrame({\n",
        "    'Ease Of Use': df[\"Ease of Use\"],\n",
        "    'Quality': df[\"Quality\"],\n",
        "})\n",
        "\n",
        "avg_ease_of_use = easeOfUse_quality.groupby('Quality')['Ease Of Use'].mean()\n",
        "\n",
        "# Plotting the average line\n",
        "plt.plot(avg_ease_of_use.index, avg_ease_of_use.values, marker='o')\n",
        "plt.xlabel('Quality')\n",
        "plt.ylabel('Average Ease Of Use')\n",
        "plt.title('Average Ease Of Use vs Quality')\n",
        "plt.grid(True)\n",
        "plt.show()"
      ],
      "metadata": {
        "id": "MPs5QY0ZR7Yg"
      },
      "execution_count": null,
      "outputs": []
    },
    {
      "cell_type": "code",
      "source": [
        "knowledgeable_quality = pd.DataFrame({\n",
        "    'Knowledgeable': df[\"Knowledgeable\"],\n",
        "    'Quality': df[\"Quality\"],\n",
        "})\n",
        "\n",
        "# Calculate average Y for each unique X value\n",
        "avg_y = knowledgeable_quality.groupby('Knowledgeable')['Quality'].mean()\n",
        "\n",
        "# Plotting the average line\n",
        "plt.plot(avg_y.index, avg_y.values, marker='o')\n",
        "plt.xlabel('Knowledgeable')\n",
        "plt.ylabel('Average Quality')\n",
        "plt.grid(True)\n",
        "plt.show()"
      ],
      "metadata": {
        "id": "SULRC_XNWUA0"
      },
      "execution_count": null,
      "outputs": []
    },
    {
      "cell_type": "markdown",
      "source": [
        "**Loyalty program effectiveness**"
      ],
      "metadata": {
        "id": "L_JppTwkyfId"
      }
    },
    {
      "cell_type": "code",
      "source": [
        "loyalty_program = pd.DataFrame({\n",
        "    'Loyalty Tier': df[\"Loyalty Tier\"],\n",
        "    'Likelihood to Recommend of Store': df[\"Likelihood to Recommend of Store\"],\n",
        "})\n"
      ],
      "metadata": {
        "id": "jvygY2KQ0YRm"
      },
      "execution_count": null,
      "outputs": []
    },
    {
      "cell_type": "code",
      "source": [
        "# Plot countplot\n",
        "plt.figure(figsize=(10, 6))\n",
        "sns.countplot(data=loyalty_program, x='Loyalty Tier', hue='Likelihood to Recommend of Store')\n",
        "plt.xlabel('Loyalty Tier')\n",
        "plt.ylabel('Count')\n",
        "plt.title('Count of Likelihood to Recommend of Store across Loyalty Tiers')\n",
        "plt.legend(title='Likelihood to Recommend of Store')\n",
        "plt.show()"
      ],
      "metadata": {
        "id": "8X1tfCHD3O4_"
      },
      "execution_count": null,
      "outputs": []
    },
    {
      "cell_type": "code",
      "source": [
        "loyalty_spend = pd.DataFrame({\n",
        "    'Loyalty Tier': df[\"Loyalty Tier\"],\n",
        "    'Transaction Amount': df[\"Transaction Amount\"],\n",
        "})\n",
        "\n",
        "# Plotting with Seaborn\n",
        "plt.figure(figsize=(10, 6))\n",
        "sns.violinplot(data=loyalty_spend, x='Loyalty Tier', y='Transaction Amount')\n",
        "plt.xlabel('Loyalty Tier')\n",
        "plt.ylabel('Transaction Amount')\n",
        "plt.title('Distribution of Transaction Amount across Loyalty Tiers')\n",
        "plt.show()\n"
      ],
      "metadata": {
        "id": "j9FLVDgu3t7Z"
      },
      "execution_count": null,
      "outputs": []
    },
    {
      "cell_type": "code",
      "source": [
        "loyalty_spendd = pd.DataFrame({\n",
        "    'Loyalty Tier': df[\"Loyalty Tier\"],\n",
        "    'Cart Spend Amount': df[\"Cart Spend Amount\"],\n",
        "})\n",
        "\n",
        "# Plotting with Seaborn\n",
        "plt.figure(figsize=(10, 6))\n",
        "sns.violinplot(data=loyalty_spendd, x='Loyalty Tier', y='Cart Spend Amount')\n",
        "plt.xlabel('Loyalty Tier')\n",
        "plt.ylabel('Cart Spend Amount')\n",
        "plt.title('Distribution of Cart Spend Amount across Loyalty Tiers')\n",
        "plt.show()\n"
      ],
      "metadata": {
        "id": "yr42by0EmFg6"
      },
      "execution_count": null,
      "outputs": []
    },
    {
      "cell_type": "code",
      "source": [],
      "metadata": {
        "id": "gTromqL_neUR"
      },
      "execution_count": null,
      "outputs": []
    }
  ]
}